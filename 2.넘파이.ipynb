{
 "cells": [
  {
   "cell_type": "markdown",
   "id": "drawn-placement",
   "metadata": {},
   "source": [
    "## 수치계산 및 n차원 배열을 다루기 위한 Numpy\n",
    "- import numpy as np : 넘파이 모듈 임포트 통상적으로 np라는 별칭을 사용하여 import 하며 conda 설치시 기본으로 설치되어 별도의 설치가 필요 없음\n",
    "- 넘파이는 주로 array - 1차도 포함되지만 2차 이상의 배열에 대하여 연산을 쉽게 할 수 있도록 하는 모듈\n",
    "- 넘파이의 장점 loop연산과 속도가 빠르다<sup>****</sup>"
   ]
  },
  {
   "cell_type": "code",
   "execution_count": 1,
   "id": "tropical-insider",
   "metadata": {},
   "outputs": [],
   "source": [
    "# numpy 모듈 import\n",
    "import numpy as np"
   ]
  },
  {
   "cell_type": "code",
   "execution_count": 1,
   "id": "every-region",
   "metadata": {},
   "outputs": [],
   "source": [
    "import numpy as np"
   ]
  },
  {
   "cell_type": "markdown",
   "id": "tropical-technology",
   "metadata": {},
   "source": [
    "## ndarray 구조 \n",
    "- ndarray는 데이터 자체를 나타냄\n",
    "- data-type은 array의 단일 고정 크기 요소의 레이아웃 정보\n",
    "- array scalar는 배령의 요소에 엑세스 될 때 반환되는 배열\n",
    "- array는 모든 원소가 동일한 데이터 타입을 갖음\n",
    "- numpy 모듈의 array함수를 사용하여 생성"
   ]
  },
  {
   "cell_type": "code",
   "execution_count": 3,
   "id": "impossible-packet",
   "metadata": {},
   "outputs": [
    {
     "data": {
      "text/plain": [
       "[2, 3, 4, 5, 6]"
      ]
     },
     "execution_count": 3,
     "metadata": {},
     "output_type": "execute_result"
    }
   ],
   "source": [
    "l = [1,2,3,4,5]\n",
    "l_1 = []\n",
    "for i in l:\n",
    "    l_1.append(i+1)\n",
    "l_1"
   ]
  },
  {
   "cell_type": "code",
   "execution_count": 4,
   "id": "instructional-smooth",
   "metadata": {},
   "outputs": [
    {
     "data": {
      "text/plain": [
       "array([2, 3, 4, 5, 6])"
      ]
     },
     "execution_count": 4,
     "metadata": {},
     "output_type": "execute_result"
    }
   ],
   "source": [
    "a = np.array(l)\n",
    "a + 1"
   ]
  },
  {
   "cell_type": "code",
   "execution_count": 9,
   "id": "optical-threshold",
   "metadata": {},
   "outputs": [],
   "source": [
    "# 1,2,3의 원소를 갖는 1차원 배열 array생성\n",
    "a = np.array([1,2,3])\n",
    "b = np.array([10])\n",
    "\n",
    "c = a+b"
   ]
  },
  {
   "cell_type": "code",
   "execution_count": 12,
   "id": "detected-circle",
   "metadata": {},
   "outputs": [
    {
     "data": {
      "text/plain": [
       "[-7, -6, -5, -4]"
      ]
     },
     "execution_count": 12,
     "metadata": {},
     "output_type": "execute_result"
    }
   ],
   "source": [
    "## a = 1~4까지 원소를 만들고\n",
    "## b = 3~6까지 원소를 만들고\n",
    "## a 에다 5를 곱하고 b 에다 4를 곱해서 a - b를 값을 c 라는 객체를 만드세요\n",
    "\n",
    "l_a = [1,2,3,4]\n",
    "l_b = [3,4,5,6]\n",
    "\n",
    "l_c = []\n",
    "for i in range(4):\n",
    "    l_c.append(l_a[i]*5 - l_b[i]*4)\n",
    "l_c\n"
   ]
  },
  {
   "cell_type": "code",
   "execution_count": 13,
   "id": "limiting-anime",
   "metadata": {},
   "outputs": [
    {
     "data": {
      "text/plain": [
       "array([-7, -6, -5, -4])"
      ]
     },
     "execution_count": 13,
     "metadata": {},
     "output_type": "execute_result"
    }
   ],
   "source": [
    "c = np.array(l_a) *5 - np.array(l_b)*4\n",
    "c"
   ]
  },
  {
   "cell_type": "markdown",
   "id": "julian-madison",
   "metadata": {},
   "source": [
    "## ndarray 차원\n",
    "- ndarray의 1차원은 배열의 특징을 가지며 차원, 타입, 요소를 갖고 있음\n",
    "- 2차원은 여러 1차원의 배열로 구성되며, matrix와 동일한 구조(구조만 같고 matrix 객체는 아님)\n",
    "- 3차원은 여러 2차원 행렬로 구성됨\n",
    "- n차원은 여러 n-1차원의 array로 구성\n",
    "- ndarray객체의 차원을 조회하기 위해서는 ndim 객체속성 사용"
   ]
  },
  {
   "cell_type": "code",
   "execution_count": 32,
   "id": "thousand-array",
   "metadata": {},
   "outputs": [],
   "source": [
    "# 1,2,3 원소를 사용하여 1차원 배열 생성\n",
    "a_1 = np.array([1,2,3])\n",
    "# 1,2,3,4,5,6 원소를 사용하여 2차원 행렬 생성\n",
    "a_2 = np.array([[1,2,3],[4,5,6]])\n",
    "# a_2객체를 사용하여 3차원 array생성\n",
    "a_3 = np.array([a_2,a_2])\n",
    "# a_3의 객체속성 확인\n",
    "print(a_3.ndim)\n",
    "# a_3객체를 사용하여 a_4라는 4차원 array생성\n",
    "\n",
    "a_1 = np.array([range(3),range(3,6)])\n",
    "a_1\n",
    "\n",
    "a_3 = np.array([a_1,a_1,a_1])\n",
    "\n",
    "a_4 = np.array([a_3,a_3,a_3])\n",
    "type(a_4)\n",
    "\n",
    "a_4.ndim"
   ]
  },
  {
   "cell_type": "markdown",
   "id": "private-civilization",
   "metadata": {},
   "source": [
    "## ndarray의 데이터타입\n",
    "- numpy array는 동일한 데이터 타입을 가져야 하므로 데이터 타입에 대한 이해가 중요\n",
    "- 데이터 분석에서 분석 알고리즘마다 지원하는 데이터 타입을 잘 맞춰줘야 하기 때문에 분석의 재료가 되는 데이터 타입에 대하여 이해할 필요가 있음\n",
    "- 데이터 타입의 종류\n",
    "    - np.int32 : 32비트 정수 타입\n",
    "    - np.float64 : 64비트 부동 소수 타입\n",
    "    - np.float32 : 32비트 부동 소수 타입\n",
    "    - np.int8 : 8비트 정수 타입\n",
    "    - np.int16 : 16비트 정수 타입\n",
    "    - np.object : 파이썬 객체 타입\n",
    "- 데이터 타입 확인은 ndarray_obj.dtype을 사용 - 속성\n",
    "- 데이터 타입 변환은 ndarray_obj.astype('int32') - 메소드"
   ]
  },
  {
   "cell_type": "code",
   "execution_count": 35,
   "id": "leading-wells",
   "metadata": {},
   "outputs": [],
   "source": [
    "a = 3"
   ]
  },
  {
   "cell_type": "code",
   "execution_count": 46,
   "id": "adult-crisis",
   "metadata": {},
   "outputs": [
    {
     "data": {
      "text/plain": [
       "dtype('int8')"
      ]
     },
     "execution_count": 46,
     "metadata": {},
     "output_type": "execute_result"
    }
   ],
   "source": [
    "a = np.array([3,4.,5])\n",
    "a = a.astype(np.int8)\n",
    "a.dtype"
   ]
  },
  {
   "cell_type": "code",
   "execution_count": 49,
   "id": "cardiovascular-allocation",
   "metadata": {},
   "outputs": [
    {
     "name": "stdout",
     "output_type": "stream",
     "text": [
      "int32\n",
      "float64\n"
     ]
    }
   ],
   "source": [
    "## range 함수를 사용하여 0~9까지의 정수로 구성된 1차원 배열을 만들고\n",
    "## 데이터 타입을 확인한 후 \n",
    "## 데이터 타입을 float32로 바꾼다\n",
    "a_1 = np.array(range(10))\n",
    "print(a_1.dtype)\n",
    "a_1 = a_1.astype(np.float64)\n",
    "print(a_1.dtype)"
   ]
  },
  {
   "cell_type": "markdown",
   "id": "north-amount",
   "metadata": {},
   "source": [
    "## 객체의 속성이란\n",
    "- 속성은 객체가 가지고 있는 특성이며 객체는 속성으로 이루어져 있음\n",
    "- 객체의 속성을 알아보기 위해서는 python에서는 obj.property_name 형식으로 확인 할 수 있음\n",
    "\n",
    "## ndarray 주요 속성\n",
    "- dtype : 객체의 원소 타입\n",
    "- size : 객체의 원소의 개수\n",
    "- ndim : 객체의 차원\n",
    "- shape : 객체의 형태\n",
    "- T : 객체의 전치된 형태"
   ]
  },
  {
   "cell_type": "code",
   "execution_count": 51,
   "id": "forty-company",
   "metadata": {},
   "outputs": [
    {
     "data": {
      "text/plain": [
       "array([[[9.11342970e-312, 1.01283457e-321],\n",
       "        [0.00000000e+000, 0.00000000e+000],\n",
       "        [7.56587583e-307, 1.16097020e-028]],\n",
       "\n",
       "       [[1.26054259e-076, 2.80061842e-028],\n",
       "        [1.19877032e-071, 1.04917183e-153],\n",
       "        [5.23081515e-143, 6.52766170e-038]],\n",
       "\n",
       "       [[1.77599579e+160, 1.08411457e-042],\n",
       "        [4.04462970e-037, 5.89036803e-144],\n",
       "        [3.59751658e+252, 1.46901661e+179]],\n",
       "\n",
       "       [[8.37404147e+242, 4.31999013e-096],\n",
       "        [4.82337723e+228, 5.48777207e+174],\n",
       "        [8.83478555e+165, 4.46439865e-090]],\n",
       "\n",
       "       [[3.50818416e-033, 6.82465513e-067],\n",
       "        [5.04621343e+180, 1.94918963e-153],\n",
       "        [1.14484251e+243, 2.59903827e-144]]])"
      ]
     },
     "execution_count": 51,
     "metadata": {},
     "output_type": "execute_result"
    }
   ],
   "source": [
    "arr = np.ndarray((5,3,2))\n",
    "arr"
   ]
  },
  {
   "cell_type": "code",
   "execution_count": 61,
   "id": "handed-moore",
   "metadata": {},
   "outputs": [],
   "source": [
    "arr1 = np.array([[1,2],[3,4],[5,6]])"
   ]
  },
  {
   "cell_type": "code",
   "execution_count": 41,
   "id": "flying-lindsay",
   "metadata": {},
   "outputs": [
    {
     "data": {
      "text/plain": [
       "array([[[1.32655197e-311, 2.57707022e-057, 1.77296565e+160,\n",
       "         7.50189709e+247, 7.63253730e+169],\n",
       "        [0.00000000e+000, 7.11874978e-067, 2.16696491e+184,\n",
       "         2.22176728e+180, 8.37170571e-144],\n",
       "        [0.00000000e+000, 8.37170074e-144, 5.49419094e-143,\n",
       "         1.31285322e-071, 5.60230216e-067]],\n",
       "\n",
       "       [[9.58487353e-322, 6.36791070e-062, 4.46728262e-090,\n",
       "         1.35617292e+248, 5.04621361e+180],\n",
       "        [0.00000000e+000, 5.01163173e+217, 5.01163193e+217,\n",
       "         4.29228306e-038, 9.30350598e+199],\n",
       "        [1.16097020e-028, 1.96786718e+160, 9.80058441e+252,\n",
       "         8.59667625e-067, 2.65532969e-312]]])"
      ]
     },
     "execution_count": 41,
     "metadata": {},
     "output_type": "execute_result"
    }
   ],
   "source": [
    "## numpy array 생성 함수 ndarray를 사용하여 (5,3,2) array생성\n",
    "## 주요 속성 확인\n",
    "arr = np.ndarray((5,3,2))\n",
    "arr.dtype\n",
    "arr.size\n",
    "arr.ndim\n",
    "arr.shape\n",
    "arr.T"
   ]
  },
  {
   "cell_type": "markdown",
   "id": "scenic-indianapolis",
   "metadata": {},
   "source": [
    "## ndarray 생성 방법\n",
    "- array : array 값을 직접입력\n",
    "    - np.array([원소])\n",
    "- ndarray : shape을 입력하면 random normal 값으로 shape에 맞게 생성\n",
    "    - np.ndarray(shape) shape=(5,3,2)\n",
    "- ones : shape을 입력하면 1로 채워 shape에 맞게 생성\n",
    "    - np.ones(shape) \n",
    "- zeros : shape을 입력하면 0으로 채워 shape에 맞게 생성\n",
    "    - np.zeros(shape)\n",
    "- empty : 비어 있는 ndarray 생성\n",
    "    - np.empty(shape)\n",
    "- identity : 대각선이 1인 정방행렬 생성\n",
    "    - np.identity(n) n = 행수(rows)\n",
    "- eye : 대각선이 1인 정방행렬, k값에 따라 1이되는 열의 위치가 달라짐\n",
    "    - np.eye(n,k) k(default=0)"
   ]
  },
  {
   "cell_type": "code",
   "execution_count": 71,
   "id": "bizarre-turner",
   "metadata": {},
   "outputs": [
    {
     "data": {
      "text/plain": [
       "array([[0., 0.],\n",
       "       [0., 0.],\n",
       "       [0., 0.]])"
      ]
     },
     "execution_count": 71,
     "metadata": {},
     "output_type": "execute_result"
    }
   ],
   "source": [
    "one = np.empty((3,2))\n",
    "one"
   ]
  },
  {
   "cell_type": "code",
   "execution_count": 76,
   "id": "billion-spirituality",
   "metadata": {},
   "outputs": [
    {
     "data": {
      "text/plain": [
       "array([[0., 1., 0., 0.],\n",
       "       [0., 0., 1., 0.],\n",
       "       [0., 0., 0., 1.],\n",
       "       [0., 0., 0., 0.]])"
      ]
     },
     "execution_count": 76,
     "metadata": {},
     "output_type": "execute_result"
    }
   ],
   "source": [
    "np.eye(4,k=1)"
   ]
  },
  {
   "cell_type": "code",
   "execution_count": 48,
   "id": "christian-harmony",
   "metadata": {},
   "outputs": [],
   "source": [
    "## array 함수를 이용하여 [1,2,3,4,5] 원소로 구성된 1차원 배열을 생성\n",
    "a1 = np.array([1,2,3,4,5])\n",
    "## ndarray 함수를 이용하여 2X2로 구성된 2차원 행열을 생성\n",
    "a2 = np.ndarray((2,2))\n",
    "## zeros 함수를 이용하여 3X3X3 으로 구성된 3차원 array를 생성\n",
    "a3 = np.zeros((3,3,3))\n",
    "## ones함수를 이용하여 3X2로 구성된 2차원 행열을 생성\n",
    "a4 = np.ones((2,2,2))\n",
    "## eye를 사용하여 3X3 대각행렬 생성"
   ]
  },
  {
   "cell_type": "markdown",
   "id": "senior-adoption",
   "metadata": {},
   "source": [
    "## 프로그래밍을 위한 1차원배열 생성 \n",
    "- linspace : start 부터 stop까지 num에 정의된 값만큼의 배열을 균일한 간격으로 생성\n",
    "    - np.linspace(start,stop,num)\n",
    "- arange : range 함수와 비슷하게 사용되며, ndarray를 반환 하게 됨\n",
    "    - np.arange([start,]stop[,step])"
   ]
  },
  {
   "cell_type": "code",
   "execution_count": 52,
   "id": "running-training",
   "metadata": {},
   "outputs": [
    {
     "data": {
      "text/plain": [
       "array([ 0.        ,  6.66666667, 13.33333333, 20.        , 26.66666667,\n",
       "       33.33333333, 40.        , 46.66666667, 53.33333333, 60.        ])"
      ]
     },
     "execution_count": 52,
     "metadata": {},
     "output_type": "execute_result"
    }
   ],
   "source": [
    "## linspace를 사용하여 0~60까지의 10개의 구간을 배열로 생성\n",
    "np.linspace(0,60,10)\n",
    "## arange를 사용하여 0,60까지 2칸씩 띄어지는 배열을 생성"
   ]
  },
  {
   "cell_type": "markdown",
   "id": "excess-harvest",
   "metadata": {},
   "source": [
    "## numpy의 난수 발생 모듈\n",
    "- random 모듈과 사용 함수\n",
    "    - random 모듈 사용 : np.random.함수명  \n",
    "    - random 모듈의 함수확인 dir(np.random)\n",
    "- random 모듈에서 많이 사용하는 함수의 기능 \n",
    "    - seed : np.random.seed(num) seed의 num을 통한 난수생성(동일한난수발생)\n",
    "    - randint : np.random.randint([start,]stop[,num]) 균일분포의 정수 난수 생성\n",
    "    - rand : np.random.rand(shape) 0부터 1사이의 균일분포에서 난수 matrix array 생성\n",
    "    - randn : np.random.randn(shape) 표준 정규 분포에서 난수 matrix array 생성\n",
    "    - shuffle : np.random.shuffle(obj) obj 데이터의 순서바꾸기"
   ]
  },
  {
   "cell_type": "code",
   "execution_count": 99,
   "id": "unlikely-concept",
   "metadata": {},
   "outputs": [],
   "source": [
    "np.random.seed(11)\n",
    "obj = np.random.randn(3,3)\n",
    "np.random.shuffle(obj)"
   ]
  },
  {
   "cell_type": "code",
   "execution_count": 105,
   "id": "defensive-essence",
   "metadata": {},
   "outputs": [
    {
     "data": {
      "text/plain": [
       "67"
      ]
     },
     "execution_count": 105,
     "metadata": {},
     "output_type": "execute_result"
    }
   ],
   "source": [
    "np.unique(np.random.randint(0,100,100)).size"
   ]
  },
  {
   "cell_type": "code",
   "execution_count": 111,
   "id": "bizarre-association",
   "metadata": {},
   "outputs": [
    {
     "data": {
      "text/plain": [
       "[2, 3, 1, 4]"
      ]
     },
     "execution_count": 111,
     "metadata": {},
     "output_type": "execute_result"
    }
   ],
   "source": [
    "# randint의 default 는 복원 추출 비복원 하려면 replace = False로 설정\n",
    "np.random.seed(10)\n",
    "np.random.randint(1,10,20) \n",
    "np.random.rand(3,3,2)\n",
    "np.random.randn(2,2)\n",
    "np.random.choice([1,2,3,4],4,replace=False)\n",
    "obj = [1,2,3,4]\n",
    "np.random.shuffle(obj)\n",
    "obj\n",
    "# random module의 choice 함수를 사용하여 1~100까지의 정수로 구성된 \n",
    "# 100개의 원소의 랜덤 배열을 1차원으로 구성"
   ]
  },
  {
   "cell_type": "markdown",
   "id": "portable-sample",
   "metadata": {},
   "source": [
    "## Numpy Loop 계산<sup>**</sup>\n",
    "- loop 문을 사용하지 않더라도 내부에 있는 모든 원소들에 대해 계산됨\n",
    "- ndarray는 array원소 만큼 자동으로 순환 계산해서 ndarray로 반환"
   ]
  },
  {
   "cell_type": "code",
   "execution_count": 73,
   "id": "marine-recall",
   "metadata": {},
   "outputs": [
    {
     "name": "stdout",
     "output_type": "stream",
     "text": [
      "[2 3 4]\n",
      "[[2 3 4]\n",
      " [5 6 7]]\n"
     ]
    }
   ],
   "source": [
    "# 1차원 배열의 loop 계산\n",
    "loop_ex = np.array([1,2,3])\n",
    "loop_ex_result = loop_ex + 1\n",
    "print(loop_ex_result)\n",
    "# 2차원 행렬의 loop 계산\n",
    "loop_ex = np.array([[1,2,3],[4,5,6]])\n",
    "loop_ex_result = loop_ex + 1\n",
    "print(loop_ex_result)\n",
    "# 3차원 array에 4를 곱하고 1을 더하는 연산 수행"
   ]
  },
  {
   "cell_type": "code",
   "execution_count": 113,
   "id": "unlimited-fossil",
   "metadata": {},
   "outputs": [],
   "source": [
    "x = [[1,2,3],[4,5,6]]"
   ]
  },
  {
   "cell_type": "code",
   "execution_count": 118,
   "id": "clean-monitoring",
   "metadata": {},
   "outputs": [
    {
     "data": {
      "text/plain": [
       "[[2, 3, 4], [5, 6, 7]]"
      ]
     },
     "execution_count": 118,
     "metadata": {},
     "output_type": "execute_result"
    }
   ],
   "source": [
    "x1 = []\n",
    "for i in x:\n",
    "    x2 = []\n",
    "    for j in i:\n",
    "        x2.append(j+1)\n",
    "    x1.append(x2)\n",
    "x1"
   ]
  },
  {
   "cell_type": "markdown",
   "id": "peaceful-clock",
   "metadata": {},
   "source": [
    "## ndarray 접근<sup>**</sup>\n",
    "- 배열명[행범위, 열범위]로 접근\n",
    "    - 행으로만 접근할 경우 열범위는 생략 가능하지만 열범위로 접근할 경우 행은 생략 불가\n",
    "- 배열명[행슬라이스, 열슬라이스]로 접근\n",
    "- 값 변경을 위해서는 접근한 배열에 값을 입력\n",
    "    - 배열명[행범위,열범위] = 값"
   ]
  },
  {
   "cell_type": "code",
   "execution_count": 120,
   "id": "lucky-botswana",
   "metadata": {},
   "outputs": [
    {
     "data": {
      "text/plain": [
       "array([[0.77132064, 0.02075195, 0.63364823],\n",
       "       [0.74880388, 0.49850701, 0.22479665],\n",
       "       [0.19806286, 0.76053071, 0.16911084]])"
      ]
     },
     "execution_count": 120,
     "metadata": {},
     "output_type": "execute_result"
    }
   ],
   "source": [
    "np.random.seed(10)\n",
    "arr = np.random.rand(3,3)\n",
    "arr"
   ]
  },
  {
   "cell_type": "code",
   "execution_count": 127,
   "id": "criminal-weight",
   "metadata": {},
   "outputs": [
    {
     "data": {
      "text/plain": [
       "array([[0.8052232 , 0.90864888, 0.09045935],\n",
       "       [0.30070006, 0.82868133, 0.62628715]])"
      ]
     },
     "execution_count": 127,
     "metadata": {},
     "output_type": "execute_result"
    }
   ],
   "source": [
    "np.random.seed(10)\n",
    "arr = np.random.rand(20,5)\n",
    "arr[6:8,[0,2,4]]\n",
    "\n"
   ]
  },
  {
   "cell_type": "code",
   "execution_count": 134,
   "id": "defensive-lewis",
   "metadata": {},
   "outputs": [
    {
     "name": "stdout",
     "output_type": "stream",
     "text": [
      "[[0.77132064 0.02075195 0.63364823]\n",
      " [0.74880388 0.49850701 0.22479665]\n",
      " [0.19806286 0.76053071 0.16911084]]\n",
      "행범위,열범위로 접근\n",
      "[0.63364823 0.76053071]\n",
      "행슬라이스,열슬라이스로 접근\n",
      "[[0.77132064]\n",
      " [0.74880388]]\n",
      "[[[0.54088093 0.13145815]\n",
      "  [0.41366737 0.77872881]\n",
      "  [0.58390137 0.18263144]]\n",
      "\n",
      " [[0.82608225 0.10540183]\n",
      "  [0.28357668 0.06556327]\n",
      "  [0.05644419 0.76545582]]\n",
      "\n",
      " [[0.01178803 0.61194334]\n",
      "  [0.33188226 0.55964837]\n",
      "  [0.33549965 0.41118255]]]\n",
      "[[[0.06556327]\n",
      "  [0.76545582]]\n",
      "\n",
      " [[0.55964837]\n",
      "  [0.41118255]]]\n"
     ]
    },
    {
     "data": {
      "text/plain": [
       "array([[2.37663529e-312, 2.41907520e-312, 2.33419537e-312,\n",
       "        2.35541533e-312, 9.76118064e-313],\n",
       "       [2.14321575e-312, 2.12199579e-312, 1.03977794e-312,\n",
       "        8.70018275e-313, 2.33419537e-312],\n",
       "       [9.76118064e-313, 2.05833592e-312, 2.12199579e-312,\n",
       "        2.31297541e-312, 2.41907520e-312],\n",
       "       [2.33419537e-312, 2.22809558e-312, 2.46151512e-312,\n",
       "        1.01855798e-312, 1.03977794e-312],\n",
       "       [1.01855798e-312, 1.03977794e-312, 8.70018275e-313,\n",
       "        8.34445562e-308, 3.91792476e-317]])"
      ]
     },
     "execution_count": 134,
     "metadata": {},
     "output_type": "execute_result"
    }
   ],
   "source": [
    "# 2차원 배열을 만들고 행범위, 열범위로 접근\n",
    "np.random.seed(10)\n",
    "arr = np.ndarray((3,3))\n",
    "print(arr)\n",
    "print('행범위,열범위로 접근')\n",
    "print(arr[[0,2],[2,1]])\n",
    "# 2차원 배열을 만들고 행슬라이스, 열슬라이스로 접근\n",
    "print('행슬라이스,열슬라이스로 접근')\n",
    "print(arr[0:2,0:1])\n",
    "# 3차원 배열을 만들고 행슬라이스, 열슬라이스로 접근\n",
    "arr = np.ndarray((3,3,2))\n",
    "print(arr)\n",
    "print(arr[1:3,1:3,1:3])\n",
    "# ndarray 함수를 사용하여 5by5 행렬을 만들고 0~2행과 1,3열에 접근\n"
   ]
  },
  {
   "cell_type": "code",
   "execution_count": 137,
   "id": "according-national",
   "metadata": {},
   "outputs": [
    {
     "data": {
      "text/plain": [
       "array([[2.37663529e-312, 2.33419537e-312],\n",
       "       [2.14321575e-312, 1.03977794e-312]])"
      ]
     },
     "execution_count": 137,
     "metadata": {},
     "output_type": "execute_result"
    }
   ],
   "source": [
    "arr = np.ndarray((5,5))\n",
    "arr[0:2,[0,2]]"
   ]
  },
  {
   "cell_type": "code",
   "execution_count": 139,
   "id": "final-desktop",
   "metadata": {},
   "outputs": [
    {
     "data": {
      "text/plain": [
       "[90, 99]"
      ]
     },
     "execution_count": 139,
     "metadata": {},
     "output_type": "execute_result"
    }
   ],
   "source": [
    "score = [90,80,70,99,64]\n",
    "mean_score = sum(score)/len(score)\n",
    "above_score = []\n",
    "for i in score:\n",
    "    if i > mean_score:\n",
    "        above_score.append(i)\n",
    "above_score"
   ]
  },
  {
   "cell_type": "code",
   "execution_count": 148,
   "id": "pending-color",
   "metadata": {},
   "outputs": [
    {
     "data": {
      "text/plain": [
       "array([90, 99])"
      ]
     },
     "execution_count": 148,
     "metadata": {},
     "output_type": "execute_result"
    }
   ],
   "source": [
    "score = np.array(score)\n",
    "score[score > np.mean(score)]"
   ]
  },
  {
   "cell_type": "code",
   "execution_count": 147,
   "id": "separated-montgomery",
   "metadata": {},
   "outputs": [
    {
     "data": {
      "text/plain": [
       "array([1, 5])"
      ]
     },
     "execution_count": 147,
     "metadata": {},
     "output_type": "execute_result"
    }
   ],
   "source": [
    "x = np.array([1,2,3,4,5])\n",
    "x[np.array([True,False,False,False,True])]"
   ]
  },
  {
   "cell_type": "code",
   "execution_count": 149,
   "id": "familiar-blanket",
   "metadata": {},
   "outputs": [],
   "source": [
    "arr = np.random.randint(0,100,100)"
   ]
  },
  {
   "cell_type": "code",
   "execution_count": 156,
   "id": "instant-product",
   "metadata": {},
   "outputs": [],
   "source": [
    "arr1 = np.random.randint(0,100,50)\n",
    "arr2 = np.random.randint(0,100,50)"
   ]
  },
  {
   "cell_type": "code",
   "execution_count": 160,
   "id": "governing-bibliography",
   "metadata": {},
   "outputs": [],
   "source": [
    "arr3 = np.array([arr1,arr2])\n",
    "arr4 = arr3.T"
   ]
  },
  {
   "cell_type": "code",
   "execution_count": 166,
   "id": "destroyed-garlic",
   "metadata": {},
   "outputs": [
    {
     "data": {
      "text/plain": [
       "2551"
      ]
     },
     "execution_count": 166,
     "metadata": {},
     "output_type": "execute_result"
    }
   ],
   "source": [
    "sum(arr4[:,0])"
   ]
  },
  {
   "cell_type": "code",
   "execution_count": 167,
   "id": "dense-diesel",
   "metadata": {},
   "outputs": [
    {
     "data": {
      "text/plain": [
       "2502"
      ]
     },
     "execution_count": 167,
     "metadata": {},
     "output_type": "execute_result"
    }
   ],
   "source": [
    "sum(arr4[:,1])"
   ]
  },
  {
   "cell_type": "code",
   "execution_count": 171,
   "id": "straight-warrior",
   "metadata": {},
   "outputs": [
    {
     "data": {
      "text/plain": [
       "50"
      ]
     },
     "execution_count": 171,
     "metadata": {},
     "output_type": "execute_result"
    }
   ],
   "source": [
    "np.sum(arr4,axis=1).size"
   ]
  },
  {
   "cell_type": "code",
   "execution_count": 155,
   "id": "attempted-county",
   "metadata": {},
   "outputs": [
    {
     "data": {
      "text/plain": [
       "49"
      ]
     },
     "execution_count": 155,
     "metadata": {},
     "output_type": "execute_result"
    }
   ],
   "source": [
    "## arr의 평균보다  2큰거 데이터의 갯수는?\n",
    "sum(arr > np.mean(arr))"
   ]
  },
  {
   "cell_type": "code",
   "execution_count": 176,
   "id": "requested-sandwich",
   "metadata": {},
   "outputs": [
    {
     "name": "stdout",
     "output_type": "stream",
     "text": [
      "[36 36 12 42 55 83 20 42 82 62 11 37  1 31 63 86 33 82 14 68]\n",
      "[1296 1296  144 1764 3025 6889  400 1764 6724 3844  121 1369    1  961\n",
      " 3969 7396 1089 6724  196 4624]\n",
      "[36. 36. 12. 42. 55. 83. 20. 42. 82. 62. 11. 37.  1. 31. 63. 86. 33. 82.\n",
      " 14. 68.]\n"
     ]
    },
    {
     "data": {
      "text/plain": [
       "20"
      ]
     },
     "execution_count": 176,
     "metadata": {},
     "output_type": "execute_result"
    }
   ],
   "source": [
    "\n",
    "arr = np.random.randint(1,101,20)\n",
    "print(arr)\n",
    "arr_squre = np.square(arr)\n",
    "print(arr_squre)\n",
    "arr_sqrt = np.sqrt(arr_squre)\n",
    "print(arr_sqrt)\n",
    "sum(arr == arr_sqrt)"
   ]
  },
  {
   "cell_type": "markdown",
   "id": "roman-ottawa",
   "metadata": {},
   "source": [
    "## ndarray 조건으로 조회<sup>***</sup>\n",
    "- ndarray에 비교연산자 사용\n",
    "    - 각 원소에 대해 boolean(True/False) type으로 구성된 ndarray반환\n",
    "    - 반환된 ndarray를 활용하여 True인 것만 조회가능\n",
    "    - 조건에 따른 원소 변경 가능\n",
    "- boolean배열로 조회\n",
    "    - 배열명[boolean]"
   ]
  },
  {
   "cell_type": "code",
   "execution_count": 97,
   "id": "pacific-tooth",
   "metadata": {},
   "outputs": [
    {
     "data": {
      "text/plain": [
       "array([65, 90, 94, 74])"
      ]
     },
     "execution_count": 97,
     "metadata": {},
     "output_type": "execute_result"
    }
   ],
   "source": [
    "# 1~99까지 랜덤하게 10개의 원소를 뽑아 1차원 배열을 생성하고\n",
    "arr = np.random.randint(1,99,10)\n",
    "# 50보다 큰 값을 True로 하는 boolean값의 배열을 만들고\n",
    "arr > 50\n",
    "# boolean배열을 사용하여 조회\n",
    "arr[arr>50]"
   ]
  },
  {
   "cell_type": "markdown",
   "id": "changed-consortium",
   "metadata": {},
   "source": [
    "## Numpy axis<sup>***</sup>\n",
    "- axis는 배열의 축으로 0은 행을 나타내고, 1은 열을 나타냄\n",
    "- numpy에서 함수 사용시 axis지정으로 각 axis만 계산 가능\n",
    "    - np.array([[1,2],[3,4]])의 각 행과 열의 합계를 축지정으로 행의 합과 열의합을 구할 수 있음 np.sum(ndarray,axis=0)"
   ]
  },
  {
   "cell_type": "code",
   "execution_count": 102,
   "id": "violent-physiology",
   "metadata": {},
   "outputs": [
    {
     "name": "stdout",
     "output_type": "stream",
     "text": [
      "[[7.81250000e-03 3.20000076e+01 2.04800049e+03]\n",
      " [3.27680079e+04 2.62144063e+05 1.04857625e+06]\n",
      " [4.19430502e+06 1.67772201e+07 5.03316562e+07]\n",
      " [1.00663312e+08 2.01326625e+08 4.02653250e+08]\n",
      " [8.05306500e+08 1.61061300e+09 3.22122600e+09]]\n",
      "행의합 [9.10196885e+08 1.82897902e+09 3.67526153e+09]\n",
      "열의합 [2.08000831e+03 1.34348833e+06 7.13031813e+07 7.04643187e+08\n",
      " 5.63714550e+09]\n"
     ]
    }
   ],
   "source": [
    "# ndarray 함수로 5by3 행렬을 만든 후 각 행의 합과, 열의 합을 구하면\n",
    "np.random.seed(1)\n",
    "arr = np.ndarray((5,3))\n",
    "print(arr)\n",
    "print('행의합',np.sum(arr,axis=0))\n",
    "print('열의합',np.sum(arr,axis=1))\n",
    "# ndarray 함수로 5by3 행렬을 만든 후 각 행의 평균과, 열의 평균을 구하면"
   ]
  },
  {
   "cell_type": "markdown",
   "id": "dramatic-vegetation",
   "metadata": {},
   "source": [
    "## Numpy 함수\n",
    "- square() : 거듭제곱\n",
    "- sqrt() : 제곱근\n",
    "- power(a,b) : 두배열의 거듭제곱\n",
    "- hypot(a,b) : a와 b의 거리 $\\sqrt{a^2+b^2}$\n",
    "- ceil : 각 원소보다 같거나 큰 정수 반환\n",
    "- floor : 각 원소보다 같거나 작은 정수 반환\n",
    "- rint : 각 원소의 소수점 반올림"
   ]
  },
  {
   "cell_type": "code",
   "execution_count": 110,
   "id": "explicit-quilt",
   "metadata": {},
   "outputs": [
    {
     "data": {
      "text/plain": [
       "array([ 90.52071586, 109.22453937, 118.71394189,  72.0624729 ,\n",
       "       105.11898021, 113.25193155,  19.41648784,  55.32630477,\n",
       "        98.65596789,  93.47726996])"
      ]
     },
     "execution_count": 110,
     "metadata": {},
     "output_type": "execute_result"
    }
   ],
   "source": [
    "# random module의 randint를 사용하여 10개의 정수 배열 두개를 생성\n",
    "a = np.random.randint(1,100,10)\n",
    "b = np.random.randint(1,100,10)\n",
    "# a배열의 거듭제곱 구하기\n",
    "np.square(a)\n",
    "# a배열의 제곱근 구하기\n",
    "np.sqrt(a)\n",
    "# a와 b의 거리 구하기\n",
    "np.hypot(a,b)\n",
    "# a,b 배열의 거리의 반올림값과, 올림값, 내림값을 각각 구하기"
   ]
  },
  {
   "cell_type": "markdown",
   "id": "following-psychology",
   "metadata": {},
   "source": [
    "## 조건 if문을 위한 where 함수<sup>****</sup>\n",
    "- np.where(조건식,참일때값,거짓일때값)\n",
    "- np.where(조건식) 조건식만 있을때는 조건에 맞는 원소 위치 반환\n",
    "\n",
    "## Unique한 원소만 추출 하는 unique함수\n",
    "- np.unique(ndarray)"
   ]
  },
  {
   "cell_type": "code",
   "execution_count": 113,
   "id": "comfortable-freeze",
   "metadata": {},
   "outputs": [
    {
     "name": "stdout",
     "output_type": "stream",
     "text": [
      "[-3 -5 -6 -5 -2  3  7  7  5  3]\n",
      "[-1 -1 -1 -1 -1  1  1  1  1  1]\n"
     ]
    },
    {
     "data": {
      "text/plain": [
       "array([-1,  1])"
      ]
     },
     "execution_count": 113,
     "metadata": {},
     "output_type": "execute_result"
    }
   ],
   "source": [
    "# -10 ~ 10 까지의 값중 10개를 랜덤으로 추출하여\n",
    "arr = np.random.randint(-10,10,10)\n",
    "# 랜덤원소가 음수일 경우 -1, 양수일 경우 1로 값이 할당된 배열을 만들면\n",
    "print(arr)\n",
    "signed_arr = np.where(arr>0,1,-1)\n",
    "print(signed_arr)\n",
    "# unique한 것을 출력(-1,1)을 출력\n",
    "np.unique(signed_arr)\n",
    "#위의 식에서 0이 나왔을 경우 0으로 할당하도록 코드 작성"
   ]
  },
  {
   "cell_type": "code",
   "execution_count": 177,
   "id": "exposed-reminder",
   "metadata": {},
   "outputs": [
    {
     "data": {
      "text/plain": [
       "array([-10, -10,  -4,  -5,   5,  -3, -10, -10,   8,  -8])"
      ]
     },
     "execution_count": 177,
     "metadata": {},
     "output_type": "execute_result"
    }
   ],
   "source": [
    "arr = np.random.randint(-10,10,10)\n",
    "arr"
   ]
  },
  {
   "cell_type": "code",
   "execution_count": 178,
   "id": "lesser-newsletter",
   "metadata": {},
   "outputs": [
    {
     "data": {
      "text/plain": [
       "[-1, -1, -1, -1, 1, -1, -1, -1, 1, -1]"
      ]
     },
     "execution_count": 178,
     "metadata": {},
     "output_type": "execute_result"
    }
   ],
   "source": [
    "arr1 = []\n",
    "for i in arr:\n",
    "    if i > 0:\n",
    "        result =1\n",
    "    else:\n",
    "        result = -1\n",
    "    arr1.append(result)\n",
    "arr1"
   ]
  },
  {
   "cell_type": "code",
   "execution_count": 185,
   "id": "nervous-acrobat",
   "metadata": {},
   "outputs": [
    {
     "name": "stdout",
     "output_type": "stream",
     "text": [
      "a: 22499610 b: 27495514 c: 50004876\n",
      "Wall time: 50.7 s\n"
     ]
    }
   ],
   "source": [
    "%%time\n",
    "np.random.seed(100)\n",
    "score = np.random.randint(60,100,100000000)\n",
    "# 90보다 크면  A, 90~80이면  B, 80미만 이면 C\n",
    "# A 학점 명수, B 학점 명수, C학점의 명수\n",
    "a = 0\n",
    "b = 0\n",
    "c = 0\n",
    "for i in score:\n",
    "    if i > 90:\n",
    "        a += 1\n",
    "    elif i >= 80:\n",
    "        b +=1\n",
    "    else:\n",
    "        c +=1\n",
    "print(\"a:\",a,\"b:\",b,\"c:\",c)\n"
   ]
  },
  {
   "cell_type": "code",
   "execution_count": 187,
   "id": "going-cooking",
   "metadata": {},
   "outputs": [
    {
     "name": "stdout",
     "output_type": "stream",
     "text": [
      "a: 22499610 b: 27495514 c: 50004876\n",
      "Wall time: 6.7 s\n"
     ]
    }
   ],
   "source": [
    "%%time\n",
    "score1 = np.where(score >90, 'A', np.where(score>=80,'B','C'))\n",
    "a = score1[score1=='A']\n",
    "b = score1[score1=='B']\n",
    "c = score1[score1=='C']\n",
    "print(\"a:\",a.size,\"b:\",b.size,\"c:\",c.size)"
   ]
  },
  {
   "cell_type": "markdown",
   "id": "rising-familiar",
   "metadata": {},
   "source": [
    "## Numpy 중요 메소드\n",
    "- reshape<sup>*****</sup> : 배열의 모양을 변경\n",
    "    - 전체 원소 수가 변경하려는 shape의 수와 같아야 한다\n",
    "    - shape이 ${2x2x3}=12$ 이라면 변경하려는 shape의 곱이 변경전 shape의 곱과 같아야 함, 즉 변경 후 shape의 곱이 12가 되야 함\n",
    "- array_obj.reshape(변경할shape)\n",
    "- flatten : 1차원 배열로 변환"
   ]
  },
  {
   "cell_type": "code",
   "execution_count": 121,
   "id": "southern-working",
   "metadata": {},
   "outputs": [],
   "source": [
    "# ndarray함수를 사용하여 (3,90) array생성\n",
    "arr = np.ndarray((3,90))\n",
    "# ndarray를 3,30으로 reshape\n",
    "arr_trans = arr.reshape(3,3,30) \n",
    "# arr_trans를 1차원 배열로 변환\n",
    "arr_1d = arr_trans.flatten()"
   ]
  },
  {
   "cell_type": "code",
   "execution_count": 191,
   "id": "deluxe-integral",
   "metadata": {},
   "outputs": [
    {
     "data": {
      "text/plain": [
       "array([[0.66140689, 0.53675213, 0.56264186, 0.79050299],\n",
       "       [0.00848674, 0.35069047, 0.12253792, 0.99863879],\n",
       "       [0.67673486, 0.00862732, 0.64350532, 0.18500488]])"
      ]
     },
     "execution_count": 191,
     "metadata": {},
     "output_type": "execute_result"
    }
   ],
   "source": [
    "arr = np.random.rand(3,4)\n",
    "arr"
   ]
  },
  {
   "cell_type": "code",
   "execution_count": 195,
   "id": "advanced-virginia",
   "metadata": {},
   "outputs": [
    {
     "data": {
      "text/plain": [
       "array([[0.66140689, 0.53675213, 0.56264186],\n",
       "       [0.79050299, 0.00848674, 0.35069047],\n",
       "       [0.12253792, 0.99863879, 0.67673486],\n",
       "       [0.00862732, 0.64350532, 0.18500488]])"
      ]
     },
     "execution_count": 195,
     "metadata": {},
     "output_type": "execute_result"
    }
   ],
   "source": [
    "arr.flatten().reshape(4,3)"
   ]
  },
  {
   "cell_type": "code",
   "execution_count": 197,
   "id": "biblical-plenty",
   "metadata": {},
   "outputs": [
    {
     "data": {
      "text/plain": [
       "array([[0.66140689, 0.53675213, 0.56264186],\n",
       "       [0.79050299, 0.00848674, 0.35069047],\n",
       "       [0.12253792, 0.99863879, 0.67673486],\n",
       "       [0.00862732, 0.64350532, 0.18500488]])"
      ]
     },
     "execution_count": 197,
     "metadata": {},
     "output_type": "execute_result"
    }
   ],
   "source": [
    "arr.reshape(4,3)"
   ]
  },
  {
   "cell_type": "code",
   "execution_count": 206,
   "id": "quantitative-satellite",
   "metadata": {},
   "outputs": [
    {
     "data": {
      "image/png": "[encoded data removed]",
      "text/plain": [
       "<Figure size 640x480 with 1 Axes>"
      ]
     },
     "metadata": {},
     "output_type": "display_data"
    }
   ],
   "source": [
    "import matplotlib.pyplot as plt\n",
    "x = np.random.randint(0,256,24*24)\n",
    "x = np.where(x>100,x,0)\n",
    "plt.imshow(x.reshape(24,24))\n",
    "plt.gray()\n",
    "plt.show()"
   ]
  },
  {
   "cell_type": "markdown",
   "id": "advance-crossing",
   "metadata": {},
   "source": [
    "## Numpy Shape속성 및 shape 이해<sup>*****</sup>\n",
    "- ndarray.shape\n",
    "   - 1차원 배열 : 값의 연속\n",
    "   - 2차원 배열 : 행(데이터)과 열(변수)로 구성\n",
    "   - 3차원 배열 : 행(데이터)과 matrix(변수)로 구성"
   ]
  },
  {
   "cell_type": "code",
   "execution_count": 198,
   "id": "hollow-highland",
   "metadata": {},
   "outputs": [
    {
     "ename": "NameError",
     "evalue": "name 'arr_1d' is not defined",
     "output_type": "error",
     "traceback": [
      "\u001b[1;31m---------------------------------------------------------------------------\u001b[0m",
      "\u001b[1;31mNameError\u001b[0m                                 Traceback (most recent call last)",
      "\u001b[1;32m<ipython-input-198-07b3f847be97>\u001b[0m in \u001b[0;36m<module>\u001b[1;34m\u001b[0m\n\u001b[1;32m----> 1\u001b[1;33m \u001b[0mprint\u001b[0m\u001b[1;33m(\u001b[0m\u001b[1;34m'1차원배열'\u001b[0m\u001b[1;33m,\u001b[0m\u001b[0marr_1d\u001b[0m\u001b[1;33m.\u001b[0m\u001b[0mshape\u001b[0m\u001b[1;33m)\u001b[0m\u001b[1;33m\u001b[0m\u001b[1;33m\u001b[0m\u001b[0m\n\u001b[0m\u001b[0;32m      2\u001b[0m \u001b[0mprint\u001b[0m\u001b[1;33m(\u001b[0m\u001b[1;34m'2차원배열'\u001b[0m\u001b[1;33m,\u001b[0m\u001b[0marr\u001b[0m\u001b[1;33m.\u001b[0m\u001b[0mshape\u001b[0m\u001b[1;33m)\u001b[0m\u001b[1;33m\u001b[0m\u001b[1;33m\u001b[0m\u001b[0m\n\u001b[0;32m      3\u001b[0m \u001b[0mprint\u001b[0m\u001b[1;33m(\u001b[0m\u001b[1;34m'3차원배열'\u001b[0m\u001b[1;33m,\u001b[0m\u001b[0marr_trans\u001b[0m\u001b[1;33m.\u001b[0m\u001b[0mshape\u001b[0m\u001b[1;33m)\u001b[0m\u001b[1;33m\u001b[0m\u001b[1;33m\u001b[0m\u001b[0m\n",
      "\u001b[1;31mNameError\u001b[0m: name 'arr_1d' is not defined"
     ]
    }
   ],
   "source": [
    "print('1차원배열',arr_1d.shape)\n",
    "print('2차원배열',arr.shape)\n",
    "print('3차원배열',arr_trans.shape)"
   ]
  },
  {
   "cell_type": "markdown",
   "id": "impressed-vault",
   "metadata": {},
   "source": [
    "## Numpy object 연결함수(concatenate)를 통한 loop 연산이해\n",
    "- concatenate : array를 연결하는 함수로 여러 array를 한번에 연결\n",
    "- axis 옵션을 통해 row, column기준으로 연결 가능"
   ]
  },
  {
   "cell_type": "code",
   "execution_count": 125,
   "id": "partial-russia",
   "metadata": {},
   "outputs": [
    {
     "name": "stdout",
     "output_type": "stream",
     "text": [
      "[1 2 3 4]\n",
      "[5 6 7 8]\n",
      "[ 9 10]\n",
      "[array([1, 2, 3, 4]) array([5, 6, 7, 8]) array([ 9, 10])]\n",
      "[ 1  2  3  4  5  6  7  8  9 10]\n",
      "[ 1  2  3  4  5  6  7  8  9 10]\n"
     ]
    },
    {
     "name": "stderr",
     "output_type": "stream",
     "text": [
      "<ipython-input-125-de8791ba2c82>:6: VisibleDeprecationWarning: Creating an ndarray from ragged nested sequences (which is a list-or-tuple of lists-or-tuples-or ndarrays with different lengths or shapes) is deprecated. If you meant to do this, you must specify 'dtype=object' when creating the ndarray\n",
      "  c4 = np.array((c1,c2,c3))\n"
     ]
    }
   ],
   "source": [
    "# 1~4, 5~8, 9~10 까지의 ndarray 1차원 배열 생성\n",
    "c1 = np.arange(1,5)\n",
    "c2 = np.arange(5,9)\n",
    "c3 = np.arange(9,11)\n",
    "# 배열 생성 함수 array를 통해 새로운 ndarray 생성\n",
    "c4 = np.array((c1,c2,c3))\n",
    "print(c1)\n",
    "print(c2)\n",
    "print(c3)\n",
    "print(c4)\n",
    "# concatenate 연결함수 사용\n",
    "c5 = np.concatenate((c1,c2,c3))\n",
    "print(c5)\n",
    "c6 = np.concatenate(c4)\n",
    "print(c6)"
   ]
  },
  {
   "cell_type": "code",
   "execution_count": 2,
   "id": "compliant-trigger",
   "metadata": {},
   "outputs": [],
   "source": [
    "import numpy as np\n",
    "c1 = np.arange(1,5)\n",
    "c2 = np.arange(5,9)\n",
    "c3 = np.arange(9,11)"
   ]
  },
  {
   "cell_type": "code",
   "execution_count": 8,
   "id": "double-volume",
   "metadata": {},
   "outputs": [],
   "source": [
    "c5 = np.concatenate((c1,c2,c3))"
   ]
  },
  {
   "cell_type": "code",
   "execution_count": 6,
   "id": "facial-enclosure",
   "metadata": {},
   "outputs": [
    {
     "name": "stderr",
     "output_type": "stream",
     "text": [
      "<ipython-input-6-145d47ed13ae>:1: VisibleDeprecationWarning: Creating an ndarray from ragged nested sequences (which is a list-or-tuple of lists-or-tuples-or ndarrays with different lengths or shapes) is deprecated. If you meant to do this, you must specify 'dtype=object' when creating the ndarray\n",
      "  c4 = np.array((c1,c2,c3))\n"
     ]
    }
   ],
   "source": [
    "c4 = np.array((c1,c2,c3))"
   ]
  },
  {
   "cell_type": "code",
   "execution_count": 7,
   "id": "protective-documentation",
   "metadata": {},
   "outputs": [
    {
     "data": {
      "text/plain": [
       "array([array([1, 2, 3, 4]), array([5, 6, 7, 8]), array([ 9, 10])],\n",
       "      dtype=object)"
      ]
     },
     "execution_count": 7,
     "metadata": {},
     "output_type": "execute_result"
    }
   ],
   "source": [
    "c4"
   ]
  },
  {
   "cell_type": "code",
   "execution_count": 10,
   "id": "allied-announcement",
   "metadata": {},
   "outputs": [
    {
     "data": {
      "text/plain": [
       "array([ 1,  2,  3,  4,  5,  6,  7,  8,  9, 10])"
      ]
     },
     "execution_count": 10,
     "metadata": {},
     "output_type": "execute_result"
    }
   ],
   "source": [
    "np.concatenate(c4)"
   ]
  },
  {
   "cell_type": "code",
   "execution_count": null,
   "id": "labeled-longer",
   "metadata": {},
   "outputs": [],
   "source": []
  }
 ],
 "metadata": {
  "kernelspec": {
   "display_name": "Python 3",
   "language": "python",
   "name": "python3"
  },
  "language_info": {
   "codemirror_mode": {
    "name": "ipython",
    "version": 3
   },
   "file_extension": ".py",
   "mimetype": "text/x-python",
   "name": "python",
   "nbconvert_exporter": "python",
   "pygments_lexer": "ipython3",
   "version": "3.8.8"
  }
 },
 "nbformat": 4,
 "nbformat_minor": 5
}
