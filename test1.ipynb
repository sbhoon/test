{
 "cells": [
  {
   "cell_type": "code",
   "execution_count": null,
   "metadata": {},
   "outputs": [],
   "source": [
    "a = '151145.45415'\n",
    "print(int(float(a)))\n",
    "print(type(a))"
   ]
  },
  {
   "cell_type": "code",
   "execution_count": null,
   "metadata": {},
   "outputs": [],
   "source": [
    "str_input = input(\">>> 숫자\")\n",
    "num_input = float(str_input)\n",
    "\n",
    "print()\n",
    "print(num_input, \"inch\")\n",
    "print((num_input * 2.54), \"cm\")"
   ]
  },
  {
   "cell_type": "code",
   "execution_count": null,
   "metadata": {},
   "outputs": [],
   "source": [
    "r = input(\">>> 반지름\")\n",
    "r = float(r)\n",
    "pi = 3.141592\n",
    "area = pi * (r ** 2)\n",
    "lenth = 2 * pi * r\n",
    "print(area, lenth)"
   ]
  },
  {
   "cell_type": "code",
   "execution_count": null,
   "metadata": {},
   "outputs": [],
   "source": [
    "'asdfasdf {} asd'.format(123456)"
   ]
  },
  {
   "cell_type": "code",
   "execution_count": null,
   "metadata": {},
   "outputs": [],
   "source": [
    "asdf = \"asdfasdfasdfqweqw cvsxv\"\n",
    "asdf[asdf.find('qw'):]"
   ]
  },
  {
   "cell_type": "code",
   "execution_count": null,
   "metadata": {},
   "outputs": [],
   "source": [
    "s = 'coffee'\n",
    "n = 5\n",
    "result = f'asdfdas {s} fasdfasd {n}'\n",
    "print(result)\n"
   ]
  },
  {
   "cell_type": "code",
   "execution_count": null,
   "metadata": {},
   "outputs": [],
   "source": [
    "\"sdfasdf asdfasd fd sdfasd\".split()[2]"
   ]
  },
  {
   "cell_type": "code",
   "execution_count": null,
   "metadata": {},
   "outputs": [],
   "source": [
    "from datetime import datetime"
   ]
  },
  {
   "cell_type": "code",
   "execution_count": null,
   "metadata": {},
   "outputs": [],
   "source": [
    "dir(datetime)"
   ]
  },
  {
   "cell_type": "code",
   "execution_count": null,
   "metadata": {},
   "outputs": [],
   "source": [
    "datetime.now().weekday()"
   ]
  },
  {
   "cell_type": "code",
   "execution_count": 40,
   "metadata": {},
   "outputs": [],
   "source": [
    "l = [1, 2, 3 , 'asdf', 'qwrq', True, False,]"
   ]
  },
  {
   "cell_type": "code",
   "execution_count": null,
   "metadata": {},
   "outputs": [],
   "source": [
    "l[5] or ('aaa' + 2)"
   ]
  },
  {
   "cell_type": "code",
   "execution_count": null,
   "metadata": {},
   "outputs": [],
   "source": [
    "for i in l:\n",
    "    print(i)"
   ]
  },
  {
   "cell_type": "code",
   "execution_count": null,
   "metadata": {},
   "outputs": [],
   "source": [
    "a = range(10)"
   ]
  },
  {
   "cell_type": "code",
   "execution_count": null,
   "metadata": {},
   "outputs": [],
   "source": [
    "a = list(a)"
   ]
  },
  {
   "cell_type": "code",
   "execution_count": null,
   "metadata": {},
   "outputs": [],
   "source": [
    "a[0:10:2]"
   ]
  },
  {
   "cell_type": "code",
   "execution_count": null,
   "metadata": {},
   "outputs": [],
   "source": [
    "[a[0], a[3], a[5], a[6], a[9]]"
   ]
  },
  {
   "cell_type": "code",
   "execution_count": null,
   "metadata": {},
   "outputs": [],
   "source": [
    "b = []\n",
    "for i in [0,3,5,6,9]:\n",
    "    b.append(a[i])"
   ]
  },
  {
   "cell_type": "code",
   "execution_count": 43,
   "metadata": {},
   "outputs": [],
   "source": [
    "l2 = [1, 2, l, 4]"
   ]
  },
  {
   "cell_type": "code",
   "execution_count": 50,
   "metadata": {},
   "outputs": [
    {
     "data": {
      "text/plain": [
       "'as'"
      ]
     },
     "execution_count": 50,
     "metadata": {},
     "output_type": "execute_result"
    }
   ],
   "source": [
    "l2[2][3][0:2]"
   ]
  },
  {
   "cell_type": "code",
   "execution_count": 53,
   "metadata": {},
   "outputs": [],
   "source": [
    "l1 = list(range(1,4))\n",
    "l2 = list(range(4,7))"
   ]
  },
  {
   "cell_type": "code",
   "execution_count": 55,
   "metadata": {},
   "outputs": [],
   "source": [
    "l3 = l1 + l2"
   ]
  },
  {
   "cell_type": "code",
   "execution_count": 61,
   "metadata": {},
   "outputs": [
    {
     "data": {
      "text/plain": [
       "[1, 2, 3, 4, 5, 6]"
      ]
     },
     "execution_count": 61,
     "metadata": {},
     "output_type": "execute_result"
    }
   ],
   "source": [
    "l3"
   ]
  },
  {
   "cell_type": "code",
   "execution_count": 71,
   "metadata": {},
   "outputs": [
    {
     "name": "stdout",
     "output_type": "stream",
     "text": [
      "30\n",
      "30\n",
      "30\n",
      "30\n",
      "30\n"
     ]
    }
   ],
   "source": [
    "for i in range(1,6):\n",
    "    print(\"30\")"
   ]
  },
  {
   "cell_type": "code",
   "execution_count": 73,
   "metadata": {},
   "outputs": [
    {
     "name": "stdout",
     "output_type": "stream",
     "text": [
      "a\n",
      "s\n",
      "d\n",
      "f\n",
      "a\n",
      "s\n",
      "d\n",
      "f\n"
     ]
    }
   ],
   "source": [
    "for i in \"asdfasdf\":\n",
    "    print(i)"
   ]
  },
  {
   "cell_type": "code",
   "execution_count": 82,
   "metadata": {},
   "outputs": [
    {
     "name": "stdout",
     "output_type": "stream",
     "text": [
      "1\n",
      "2\n",
      "3\n",
      "4\n",
      "5\n",
      "6\n",
      "7\n",
      "8\n",
      "9\n",
      "10\n",
      "55\n"
     ]
    }
   ],
   "source": [
    "a = 0\n",
    "\n",
    "for i in range(1,11):\n",
    "    a += i\n",
    "    print(i)\n",
    "\n",
    "print(a)"
   ]
  },
  {
   "cell_type": "code",
   "execution_count": 84,
   "metadata": {},
   "outputs": [],
   "source": [
    "n = [100,200,300]\n"
   ]
  },
  {
   "cell_type": "code",
   "execution_count": 98,
   "metadata": {},
   "outputs": [
    {
     "name": "stdout",
     "output_type": "stream",
     "text": [
      "2 X 1  =  2\n",
      "\t\n",
      "2 X 2  =  4\n",
      "\t\n",
      "2 X 3  =  6\n",
      "\t\n",
      "2 X 4  =  8\n",
      "\t\n",
      "2 X 5  =  10\n",
      "\t\n",
      "2 X 6  =  12\n",
      "\t\n",
      "2 X 7  =  14\n",
      "\t\n",
      "2 X 8  =  16\n",
      "\t\n",
      "2 X 9  =  18\n",
      "\t\n",
      "3 X 1  =  3\n",
      "3 X 2  =  6\n",
      "3 X 3  =  9\n",
      "3 X 4  =  12\n",
      "3 X 5  =  15\n",
      "3 X 6  =  18\n",
      "3 X 7  =  21\n",
      "3 X 8  =  24\n",
      "3 X 9  =  27\n",
      "4 X 1  =  4\n",
      "\t\n",
      "4 X 2  =  8\n",
      "\t\n",
      "4 X 3  =  12\n",
      "\t\n",
      "4 X 4  =  16\n",
      "\t\n",
      "4 X 5  =  20\n",
      "\t\n",
      "4 X 6  =  24\n",
      "\t\n",
      "4 X 7  =  28\n",
      "\t\n",
      "4 X 8  =  32\n",
      "\t\n",
      "4 X 9  =  36\n",
      "\t\n",
      "5 X 1  =  5\n",
      "5 X 2  =  10\n",
      "5 X 3  =  15\n",
      "5 X 4  =  20\n",
      "5 X 5  =  25\n",
      "5 X 6  =  30\n",
      "5 X 7  =  35\n",
      "5 X 8  =  40\n",
      "5 X 9  =  45\n",
      "6 X 1  =  6\n",
      "\t\n",
      "6 X 2  =  12\n",
      "\t\n",
      "6 X 3  =  18\n",
      "\t\n",
      "6 X 4  =  24\n",
      "\t\n",
      "6 X 5  =  30\n",
      "\t\n",
      "6 X 6  =  36\n",
      "\t\n",
      "6 X 7  =  42\n",
      "\t\n",
      "6 X 8  =  48\n",
      "\t\n",
      "6 X 9  =  54\n",
      "\t\n",
      "7 X 1  =  7\n",
      "7 X 2  =  14\n",
      "7 X 3  =  21\n",
      "7 X 4  =  28\n",
      "7 X 5  =  35\n",
      "7 X 6  =  42\n",
      "7 X 7  =  49\n",
      "7 X 8  =  56\n",
      "7 X 9  =  63\n",
      "8 X 1  =  8\n",
      "\t\n",
      "8 X 2  =  16\n",
      "\t\n",
      "8 X 3  =  24\n",
      "\t\n",
      "8 X 4  =  32\n",
      "\t\n",
      "8 X 5  =  40\n",
      "\t\n",
      "8 X 6  =  48\n",
      "\t\n",
      "8 X 7  =  56\n",
      "\t\n",
      "8 X 8  =  64\n",
      "\t\n",
      "8 X 9  =  72\n",
      "\t\n",
      "9 X 1  =  9\n",
      "9 X 2  =  18\n",
      "9 X 3  =  27\n",
      "9 X 4  =  36\n",
      "9 X 5  =  45\n",
      "9 X 6  =  54\n",
      "9 X 7  =  63\n",
      "9 X 8  =  72\n",
      "9 X 9  =  81\n"
     ]
    }
   ],
   "source": [
    "for i in range(2,10):\n",
    "    # print(i)\n",
    "    for j in range(1,10):\n",
    "        print(i, \"X\" , j, \" = \", i * j)\n",
    "\n"
   ]
  }
 ],
 "metadata": {
  "kernelspec": {
   "display_name": "Python 3.9.12 ('text')",
   "language": "python",
   "name": "python3"
  },
  "language_info": {
   "codemirror_mode": {
    "name": "ipython",
    "version": 3
   },
   "file_extension": ".py",
   "mimetype": "text/x-python",
   "name": "python",
   "nbconvert_exporter": "python",
   "pygments_lexer": "ipython3",
   "version": "3.9.12"
  },
  "orig_nbformat": 4,
  "vscode": {
   "interpreter": {
    "hash": "80dd2d74995cff030f05c4aaf2e1cbbecb94b10840da6517b5c52eb90417978d"
   }
  }
 },
 "nbformat": 4,
 "nbformat_minor": 2
}
