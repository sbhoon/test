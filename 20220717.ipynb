{
 "cells": [
  {
   "cell_type": "code",
   "execution_count": 9,
   "metadata": {},
   "outputs": [],
   "source": [
    "import numpy as np\n",
    "import matplotlib.pyplot as plt"
   ]
  },
  {
   "cell_type": "code",
   "execution_count": 3,
   "metadata": {},
   "outputs": [],
   "source": [
    "def sigmoid(x):\n",
    "    return 1/(1+np.exp(-x))"
   ]
  },
  {
   "cell_type": "code",
   "execution_count": 4,
   "metadata": {},
   "outputs": [],
   "source": [
    "def step(x):\n",
    "    return np.where(x>0,1,0)"
   ]
  },
  {
   "cell_type": "code",
   "execution_count": 6,
   "metadata": {},
   "outputs": [],
   "source": [
    "def linear(x):\n",
    "    return x"
   ]
  },
  {
   "cell_type": "code",
   "execution_count": 18,
   "metadata": {},
   "outputs": [],
   "source": [
    "def relu(x):\n",
    "    return np.where(x>0,x,0)"
   ]
  },
  {
   "cell_type": "code",
   "execution_count": 176,
   "metadata": {},
   "outputs": [],
   "source": [
    "def softmax(x):\n",
    "    x = x- np.max(x,axis=1).reshape(-1,1)\n",
    "    return np.exp(x)/np.sum(np.exp(x),axis=1).reshape(-1,1)"
   ]
  },
  {
   "cell_type": "code",
   "execution_count": 188,
   "metadata": {},
   "outputs": [],
   "source": [
    "def cross_entropy(y,t):\n",
    "    return -np.sum(t*np.log(y))"
   ]
  },
  {
   "cell_type": "code",
   "execution_count": 189,
   "metadata": {},
   "outputs": [
    {
     "data": {
      "text/plain": [
       "9.185588"
      ]
     },
     "execution_count": 189,
     "metadata": {},
     "output_type": "execute_result"
    }
   ],
   "source": [
    "cross_entropy(l3,y_train[:500])"
   ]
  },
  {
   "cell_type": "code",
   "execution_count": 174,
   "metadata": {},
   "outputs": [
    {
     "data": {
      "text/plain": [
       "array([[-2, -1,  0],\n",
       "       [-7, -6,  0],\n",
       "       [-1, -1,  0]])"
      ]
     },
     "execution_count": 174,
     "metadata": {},
     "output_type": "execute_result"
    }
   ],
   "source": [
    "x = x- np.max(x,axis=1).reshape(-1,1)\n",
    "x"
   ]
  },
  {
   "cell_type": "code",
   "execution_count": 175,
   "metadata": {},
   "outputs": [
    {
     "data": {
      "text/plain": [
       "3.0"
      ]
     },
     "execution_count": 175,
     "metadata": {},
     "output_type": "execute_result"
    }
   ],
   "source": [
    "np.sum(np.exp(x)/np.sum(np.exp(x),axis=1).reshape(-1,1))"
   ]
  },
  {
   "cell_type": "code",
   "execution_count": 154,
   "metadata": {},
   "outputs": [
    {
     "data": {
      "text/plain": [
       "array([[0.00426978, 0.01160646, 0.03154963],\n",
       "       [0.08576079, 0.23312201, 0.63369132]])"
      ]
     },
     "execution_count": 154,
     "metadata": {},
     "output_type": "execute_result"
    }
   ],
   "source": [
    "softmax([1,2,3])"
   ]
  },
  {
   "cell_type": "code",
   "execution_count": 155,
   "metadata": {},
   "outputs": [
    {
     "data": {
      "text/plain": [
       "array([0.09003057, 0.24472847, 0.66524096])"
      ]
     },
     "execution_count": 155,
     "metadata": {},
     "output_type": "execute_result"
    }
   ],
   "source": [
    "softmax([1,2,3])"
   ]
  },
  {
   "cell_type": "code",
   "execution_count": null,
   "metadata": {},
   "outputs": [],
   "source": [
    "def cross_entropy(x):\n",
    "    "
   ]
  },
  {
   "cell_type": "code",
   "execution_count": 20,
   "metadata": {},
   "outputs": [],
   "source": [
    "x = np.random.randn(3,3)"
   ]
  },
  {
   "cell_type": "code",
   "execution_count": 24,
   "metadata": {},
   "outputs": [],
   "source": [
    "x = np.random.randn(50)"
   ]
  },
  {
   "cell_type": "code",
   "execution_count": 31,
   "metadata": {},
   "outputs": [
    {
     "data": {
      "text/plain": [
       "array([0.        , 0.        , 0.47984216, 0.        , 0.        ,\n",
       "       0.22611216, 0.        , 0.        , 0.        , 0.        ,\n",
       "       0.        , 0.        , 0.        , 0.22225467, 0.        ,\n",
       "       1.25069011, 0.        , 0.59178425, 0.        , 0.        ,\n",
       "       0.        , 0.        , 0.53128114, 0.        , 0.71132651,\n",
       "       1.51868848, 0.        , 0.        , 0.        , 0.        ,\n",
       "       0.        , 1.24555769, 0.        , 0.75189617, 0.        ,\n",
       "       2.28779828, 0.        , 0.13996777, 0.37836072, 1.27856849,\n",
       "       0.        , 0.63071989, 0.        , 0.41785135, 0.63375945,\n",
       "       0.36701645, 0.        , 0.        , 0.        , 0.        ])"
      ]
     },
     "execution_count": 31,
     "metadata": {},
     "output_type": "execute_result"
    }
   ],
   "source": [
    "relu(x)"
   ]
  },
  {
   "cell_type": "code",
   "execution_count": null,
   "metadata": {},
   "outputs": [],
   "source": []
  },
  {
   "cell_type": "code",
   "execution_count": 8,
   "metadata": {},
   "outputs": [],
   "source": [
    "x = np.linspace(-5,5,100)"
   ]
  },
  {
   "cell_type": "code",
   "execution_count": 16,
   "metadata": {},
   "outputs": [
    {
     "data": {
      "text/plain": [
       "[<matplotlib.lines.Line2D at 0x2a519baf760>]"
      ]
     },
     "execution_count": 16,
     "metadata": {},
     "output_type": "execute_result"
    },
    {
     "data": {
      "image/png": "[encoded data removed]",
      "text/plain": [
       "<Figure size 432x288 with 1 Axes>"
      ]
     },
     "metadata": {
      "needs_background": "light"
     },
     "output_type": "display_data"
    }
   ],
   "source": [
    "plt.ylim(-0.1,1.2)\n",
    "#plt.plot(x,linear(x))\n",
    "plt.plot(x,step(x))\n",
    "plt.plot(x,sigmoid(x))"
   ]
  },
  {
   "cell_type": "code",
   "execution_count": 35,
   "metadata": {},
   "outputs": [],
   "source": [
    "from keras.datasets import mnist"
   ]
  },
  {
   "cell_type": "code",
   "execution_count": 36,
   "metadata": {},
   "outputs": [],
   "source": [
    "from tensorflow import keras"
   ]
  },
  {
   "cell_type": "code",
   "execution_count": 37,
   "metadata": {},
   "outputs": [],
   "source": [
    "from keras.datasets import mnist"
   ]
  },
  {
   "cell_type": "code",
   "execution_count": 38,
   "metadata": {},
   "outputs": [],
   "source": [
    "(X_train,y_train),(X_test,y_test) = mnist.load_data()"
   ]
  },
  {
   "cell_type": "code",
   "execution_count": 46,
   "metadata": {},
   "outputs": [
    {
     "data": {
      "text/plain": [
       "<matplotlib.image.AxesImage at 0x2a52612de20>"
      ]
     },
     "execution_count": 46,
     "metadata": {},
     "output_type": "execute_result"
    },
    {
     "data": {
      "image/png": "[encoded data removed]",
      "text/plain": [
       "<Figure size 432x288 with 1 Axes>"
      ]
     },
     "metadata": {
      "needs_background": "light"
     },
     "output_type": "display_data"
    }
   ],
   "source": [
    "plt.imshow(X_train[2])"
   ]
  },
  {
   "cell_type": "code",
   "execution_count": 48,
   "metadata": {},
   "outputs": [],
   "source": [
    "X_train = X_train.reshape(-1,28*28)"
   ]
  },
  {
   "cell_type": "code",
   "execution_count": 49,
   "metadata": {},
   "outputs": [
    {
     "data": {
      "text/plain": [
       "(60000, 784)"
      ]
     },
     "execution_count": 49,
     "metadata": {},
     "output_type": "execute_result"
    }
   ],
   "source": [
    "X_train"
   ]
  },
  {
   "cell_type": "code",
   "execution_count": 51,
   "metadata": {},
   "outputs": [],
   "source": [
    "from keras.utils import to_categorical\n",
    "y_train = to_categorical(y_train)"
   ]
  },
  {
   "cell_type": "code",
   "execution_count": 57,
   "metadata": {},
   "outputs": [],
   "source": [
    "model = keras.models.Sequential()\n",
    "model.add(keras.layers.Dense(512,activation='relu',input_shape=(784,)))\n",
    "model.add(keras.layers.Dense(256,activation='sigmoid'))\n",
    "model.add(keras.layers.Dense(10,activation='softmax'))"
   ]
  },
  {
   "cell_type": "code",
   "execution_count": 66,
   "metadata": {},
   "outputs": [],
   "source": [
    "model.compile(optimizer='rmsprop',\n",
    "             loss='categorical_crossentropy',\n",
    "             metrics=['accuracy'])"
   ]
  },
  {
   "cell_type": "code",
   "execution_count": 96,
   "metadata": {},
   "outputs": [],
   "source": [
    "W1 = model.layers[0].get_weights()[0]\n",
    "b1 = model.layers[0].get_weights()[1]\n",
    "W2 = model.layers[1].get_weights()[0]\n",
    "b2 = model.layers[1].get_weights()[1]\n",
    "W3 = model.layers[2].get_weights()[0]\n",
    "b3 = model.layers[2].get_weights()[1]"
   ]
  },
  {
   "cell_type": "code",
   "execution_count": 179,
   "metadata": {},
   "outputs": [],
   "source": [
    "l1 = np.dot(X_train[:500],W1) + b1\n",
    "l1 = relu(l1)"
   ]
  },
  {
   "cell_type": "code",
   "execution_count": 180,
   "metadata": {},
   "outputs": [
    {
     "name": "stderr",
     "output_type": "stream",
     "text": [
      "<ipython-input-3-3cbdbdecc9c7>:2: RuntimeWarning: overflow encountered in exp\n",
      "  return 1/(1+np.exp(-x))\n"
     ]
    }
   ],
   "source": [
    "l2 = np.dot(l1,W2) + b2\n",
    "l2 = sigmoid(l2)"
   ]
  },
  {
   "cell_type": "code",
   "execution_count": 181,
   "metadata": {},
   "outputs": [],
   "source": [
    "l3 = np.dot(l2,W3) + b3\n",
    "l3 = softmax(l3)"
   ]
  },
  {
   "cell_type": "code",
   "execution_count": 187,
   "metadata": {},
   "outputs": [
    {
     "data": {
      "text/plain": [
       "500.0"
      ]
     },
     "execution_count": 187,
     "metadata": {},
     "output_type": "execute_result"
    }
   ],
   "source": [
    "np.sum(l3)"
   ]
  },
  {
   "cell_type": "code",
   "execution_count": 147,
   "metadata": {},
   "outputs": [],
   "source": [
    "def func2(x):\n",
    "    return x**3+3*x"
   ]
  },
  {
   "cell_type": "code",
   "execution_count": 145,
   "metadata": {},
   "outputs": [],
   "source": [
    "def grad(f,x):\n",
    "    h = 1e-7\n",
    "    fxh = f(x+h)\n",
    "    fx = f(x)\n",
    "    return (fxh - fx)/h"
   ]
  },
  {
   "cell_type": "code",
   "execution_count": 149,
   "metadata": {},
   "outputs": [
    {
     "data": {
      "text/plain": [
       "78.00000162205833"
      ]
     },
     "execution_count": 149,
     "metadata": {},
     "output_type": "execute_result"
    }
   ],
   "source": [
    "grad(func2,5)"
   ]
  },
  {
   "cell_type": "code",
   "execution_count": 89,
   "metadata": {},
   "outputs": [
    {
     "name": "stdout",
     "output_type": "stream",
     "text": [
      "Epoch 1/100\n",
      "150/150 [==============================] - 3s 15ms/step - loss: 0.4307 - accuracy: 0.8850\n",
      "Epoch 2/100\n",
      "150/150 [==============================] - 2s 16ms/step - loss: 0.2004 - accuracy: 0.9414\n",
      "Epoch 3/100\n",
      "150/150 [==============================] - 2s 16ms/step - loss: 0.1542 - accuracy: 0.9545\n",
      "Epoch 4/100\n",
      "150/150 [==============================] - 2s 15ms/step - loss: 0.1311 - accuracy: 0.9611\n",
      "Epoch 5/100\n",
      "150/150 [==============================] - 2s 16ms/step - loss: 0.1126 - accuracy: 0.9660\n",
      "Epoch 6/100\n",
      "150/150 [==============================] - 2s 16ms/step - loss: 0.1035 - accuracy: 0.9679\n",
      "Epoch 7/100\n",
      "150/150 [==============================] - 2s 16ms/step - loss: 0.0948 - accuracy: 0.9710\n",
      "Epoch 8/100\n",
      "150/150 [==============================] - 2s 16ms/step - loss: 0.0859 - accuracy: 0.9738\n",
      "Epoch 9/100\n",
      "150/150 [==============================] - 2s 16ms/step - loss: 0.0797 - accuracy: 0.9755\n",
      "Epoch 10/100\n",
      "150/150 [==============================] - 2s 16ms/step - loss: 0.0748 - accuracy: 0.9768\n",
      "Epoch 11/100\n",
      "150/150 [==============================] - 3s 17ms/step - loss: 0.0717 - accuracy: 0.9775\n",
      "Epoch 12/100\n",
      "150/150 [==============================] - 3s 18ms/step - loss: 0.0673 - accuracy: 0.9796\n",
      "Epoch 13/100\n",
      "150/150 [==============================] - 3s 19ms/step - loss: 0.0645 - accuracy: 0.9798\n",
      "Epoch 14/100\n",
      "150/150 [==============================] - 3s 18ms/step - loss: 0.0616 - accuracy: 0.9808\n",
      "Epoch 15/100\n",
      "150/150 [==============================] - 3s 18ms/step - loss: 0.0579 - accuracy: 0.9817\n",
      "Epoch 16/100\n",
      "150/150 [==============================] - 3s 17ms/step - loss: 0.0566 - accuracy: 0.9820\n",
      "Epoch 17/100\n",
      "150/150 [==============================] - 2s 16ms/step - loss: 0.0549 - accuracy: 0.9829\n",
      "Epoch 18/100\n",
      "150/150 [==============================] - 3s 17ms/step - loss: 0.0547 - accuracy: 0.9824\n",
      "Epoch 19/100\n",
      "150/150 [==============================] - 3s 18ms/step - loss: 0.0530 - accuracy: 0.9831\n",
      "Epoch 20/100\n",
      "150/150 [==============================] - 3s 19ms/step - loss: 0.0506 - accuracy: 0.9843\n",
      "Epoch 21/100\n",
      "150/150 [==============================] - 3s 19ms/step - loss: 0.0460 - accuracy: 0.9853\n",
      "Epoch 22/100\n",
      "150/150 [==============================] - 3s 19ms/step - loss: 0.0486 - accuracy: 0.9844\n",
      "Epoch 23/100\n",
      "150/150 [==============================] - 3s 19ms/step - loss: 0.0484 - accuracy: 0.9850\n",
      "Epoch 24/100\n",
      "150/150 [==============================] - 3s 18ms/step - loss: 0.0465 - accuracy: 0.9855\n",
      "Epoch 25/100\n",
      "150/150 [==============================] - 3s 18ms/step - loss: 0.0435 - accuracy: 0.9859\n",
      "Epoch 26/100\n",
      "150/150 [==============================] - 3s 18ms/step - loss: 0.0418 - accuracy: 0.9869\n",
      "Epoch 27/100\n",
      "150/150 [==============================] - 3s 18ms/step - loss: 0.0410 - accuracy: 0.9868\n",
      "Epoch 28/100\n",
      "150/150 [==============================] - 3s 18ms/step - loss: 0.0399 - accuracy: 0.9877\n",
      "Epoch 29/100\n",
      "150/150 [==============================] - 3s 18ms/step - loss: 0.0407 - accuracy: 0.9871\n",
      "Epoch 30/100\n",
      "150/150 [==============================] - 3s 17ms/step - loss: 0.0407 - accuracy: 0.9870\n",
      "Epoch 31/100\n",
      "150/150 [==============================] - 3s 18ms/step - loss: 0.0386 - accuracy: 0.9880\n",
      "Epoch 32/100\n",
      "150/150 [==============================] - 3s 17ms/step - loss: 0.0360 - accuracy: 0.9887\n",
      "Epoch 33/100\n",
      "150/150 [==============================] - 3s 18ms/step - loss: 0.0356 - accuracy: 0.9888\n",
      "Epoch 34/100\n",
      "150/150 [==============================] - 3s 18ms/step - loss: 0.0362 - accuracy: 0.9885\n",
      "Epoch 35/100\n",
      "150/150 [==============================] - 3s 18ms/step - loss: 0.0365 - accuracy: 0.9883\n",
      "Epoch 36/100\n",
      "150/150 [==============================] - 3s 17ms/step - loss: 0.0322 - accuracy: 0.9895\n",
      "Epoch 37/100\n",
      "150/150 [==============================] - 3s 18ms/step - loss: 0.0327 - accuracy: 0.9894\n",
      "Epoch 38/100\n",
      "150/150 [==============================] - 3s 17ms/step - loss: 0.0332 - accuracy: 0.9895\n",
      "Epoch 39/100\n",
      "150/150 [==============================] - 3s 17ms/step - loss: 0.0307 - accuracy: 0.9901\n",
      "Epoch 40/100\n",
      "150/150 [==============================] - 3s 17ms/step - loss: 0.0309 - accuracy: 0.9904\n",
      "Epoch 41/100\n",
      "150/150 [==============================] - 3s 17ms/step - loss: 0.0316 - accuracy: 0.9898\n",
      "Epoch 42/100\n",
      "150/150 [==============================] - 3s 17ms/step - loss: 0.0310 - accuracy: 0.9901\n",
      "Epoch 43/100\n",
      "150/150 [==============================] - 3s 17ms/step - loss: 0.0299 - accuracy: 0.9901\n",
      "Epoch 44/100\n",
      "150/150 [==============================] - 3s 17ms/step - loss: 0.0296 - accuracy: 0.9907\n",
      "Epoch 45/100\n",
      "150/150 [==============================] - 3s 17ms/step - loss: 0.0287 - accuracy: 0.9906\n",
      "Epoch 46/100\n",
      "150/150 [==============================] - 3s 18ms/step - loss: 0.0276 - accuracy: 0.9911\n",
      "Epoch 47/100\n",
      "150/150 [==============================] - 3s 18ms/step - loss: 0.0284 - accuracy: 0.9910\n",
      "Epoch 48/100\n",
      "150/150 [==============================] - 3s 17ms/step - loss: 0.0285 - accuracy: 0.9907\n",
      "Epoch 49/100\n",
      "150/150 [==============================] - 3s 19ms/step - loss: 0.0265 - accuracy: 0.9916\n",
      "Epoch 50/100\n",
      "150/150 [==============================] - 3s 21ms/step - loss: 0.0270 - accuracy: 0.9913\n",
      "Epoch 51/100\n",
      "150/150 [==============================] - 3s 18ms/step - loss: 0.0291 - accuracy: 0.9907\n",
      "Epoch 52/100\n",
      "150/150 [==============================] - 3s 17ms/step - loss: 0.0292 - accuracy: 0.9905\n",
      "Epoch 53/100\n",
      "150/150 [==============================] - 3s 19ms/step - loss: 0.0251 - accuracy: 0.9919\n",
      "Epoch 54/100\n",
      "150/150 [==============================] - 3s 18ms/step - loss: 0.0238 - accuracy: 0.9924\n",
      "Epoch 55/100\n",
      "150/150 [==============================] - 3s 19ms/step - loss: 0.0258 - accuracy: 0.9919\n",
      "Epoch 56/100\n",
      "150/150 [==============================] - 3s 19ms/step - loss: 0.0269 - accuracy: 0.9912\n",
      "Epoch 57/100\n",
      "150/150 [==============================] - 3s 19ms/step - loss: 0.0268 - accuracy: 0.9912\n",
      "Epoch 58/100\n",
      "150/150 [==============================] - 3s 19ms/step - loss: 0.0278 - accuracy: 0.9909\n",
      "Epoch 59/100\n",
      "150/150 [==============================] - 3s 18ms/step - loss: 0.0259 - accuracy: 0.9917\n",
      "Epoch 60/100\n",
      "150/150 [==============================] - 3s 19ms/step - loss: 0.0250 - accuracy: 0.9918\n",
      "Epoch 61/100\n",
      "150/150 [==============================] - 4s 24ms/step - loss: 0.0246 - accuracy: 0.9922\n",
      "Epoch 62/100\n",
      "150/150 [==============================] - 3s 23ms/step - loss: 0.0253 - accuracy: 0.9918\n",
      "Epoch 63/100\n",
      "150/150 [==============================] - 3s 22ms/step - loss: 0.0252 - accuracy: 0.9913\n",
      "Epoch 64/100\n",
      "150/150 [==============================] - 3s 21ms/step - loss: 0.0231 - accuracy: 0.9922\n",
      "Epoch 65/100\n",
      "150/150 [==============================] - 3s 22ms/step - loss: 0.0248 - accuracy: 0.9919\n",
      "Epoch 66/100\n",
      "150/150 [==============================] - 3s 21ms/step - loss: 0.0246 - accuracy: 0.9919\n",
      "Epoch 67/100\n",
      "150/150 [==============================] - 3s 21ms/step - loss: 0.0230 - accuracy: 0.9926\n",
      "Epoch 68/100\n",
      "150/150 [==============================] - 3s 21ms/step - loss: 0.0225 - accuracy: 0.9929\n",
      "Epoch 69/100\n",
      "150/150 [==============================] - 3s 20ms/step - loss: 0.0208 - accuracy: 0.9935\n",
      "Epoch 70/100\n",
      "150/150 [==============================] - 3s 20ms/step - loss: 0.0197 - accuracy: 0.9938\n",
      "Epoch 71/100\n",
      "150/150 [==============================] - 3s 22ms/step - loss: 0.0223 - accuracy: 0.9926\n",
      "Epoch 72/100\n",
      "150/150 [==============================] - 3s 21ms/step - loss: 0.0257 - accuracy: 0.9916\n",
      "Epoch 73/100\n",
      "150/150 [==============================] - 3s 21ms/step - loss: 0.0242 - accuracy: 0.9921\n",
      "Epoch 74/100\n",
      "150/150 [==============================] - 3s 21ms/step - loss: 0.0245 - accuracy: 0.9919\n",
      "Epoch 75/100\n",
      "150/150 [==============================] - 3s 20ms/step - loss: 0.0224 - accuracy: 0.9926\n",
      "Epoch 76/100\n",
      "150/150 [==============================] - 3s 21ms/step - loss: 0.0219 - accuracy: 0.9929\n",
      "Epoch 77/100\n",
      "150/150 [==============================] - 3s 20ms/step - loss: 0.0188 - accuracy: 0.9940\n",
      "Epoch 78/100\n",
      "150/150 [==============================] - 3s 20ms/step - loss: 0.0181 - accuracy: 0.9941\n",
      "Epoch 79/100\n",
      "150/150 [==============================] - 3s 20ms/step - loss: 0.0172 - accuracy: 0.9944\n",
      "Epoch 80/100\n",
      "150/150 [==============================] - 3s 20ms/step - loss: 0.0184 - accuracy: 0.9938\n",
      "Epoch 81/100\n",
      "150/150 [==============================] - 3s 20ms/step - loss: 0.0203 - accuracy: 0.9933\n",
      "Epoch 82/100\n",
      "150/150 [==============================] - 3s 20ms/step - loss: 0.0194 - accuracy: 0.9936\n",
      "Epoch 83/100\n",
      "150/150 [==============================] - 3s 19ms/step - loss: 0.0187 - accuracy: 0.9937\n",
      "Epoch 84/100\n",
      "150/150 [==============================] - 3s 19ms/step - loss: 0.0198 - accuracy: 0.9938\n",
      "Epoch 85/100\n",
      "150/150 [==============================] - 3s 18ms/step - loss: 0.0200 - accuracy: 0.9932\n",
      "Epoch 86/100\n",
      "150/150 [==============================] - 3s 18ms/step - loss: 0.0182 - accuracy: 0.9940\n",
      "Epoch 87/100\n",
      "150/150 [==============================] - 3s 18ms/step - loss: 0.0180 - accuracy: 0.9938\n",
      "Epoch 88/100\n",
      "150/150 [==============================] - 3s 18ms/step - loss: 0.0184 - accuracy: 0.9941\n",
      "Epoch 89/100\n",
      "150/150 [==============================] - 3s 19ms/step - loss: 0.0200 - accuracy: 0.9935\n",
      "Epoch 90/100\n",
      "150/150 [==============================] - 3s 18ms/step - loss: 0.0176 - accuracy: 0.9943\n",
      "Epoch 91/100\n",
      "150/150 [==============================] - 3s 19ms/step - loss: 0.0194 - accuracy: 0.9939\n",
      "Epoch 92/100\n",
      "150/150 [==============================] - 3s 18ms/step - loss: 0.0173 - accuracy: 0.9941\n",
      "Epoch 93/100\n",
      "150/150 [==============================] - 3s 21ms/step - loss: 0.0176 - accuracy: 0.9941\n",
      "Epoch 94/100\n",
      "150/150 [==============================] - 3s 23ms/step - loss: 0.0193 - accuracy: 0.9937\n",
      "Epoch 95/100\n",
      "150/150 [==============================] - 3s 22ms/step - loss: 0.0165 - accuracy: 0.9947\n",
      "Epoch 96/100\n",
      "150/150 [==============================] - 3s 20ms/step - loss: 0.0186 - accuracy: 0.9940\n",
      "Epoch 97/100\n",
      "150/150 [==============================] - 3s 20ms/step - loss: 0.0184 - accuracy: 0.9939\n",
      "Epoch 98/100\n",
      "150/150 [==============================] - 3s 18ms/step - loss: 0.0178 - accuracy: 0.9943\n",
      "Epoch 99/100\n",
      "150/150 [==============================] - 3s 19ms/step - loss: 0.0160 - accuracy: 0.9948\n",
      "Epoch 100/100\n",
      "150/150 [==============================] - 3s 19ms/step - loss: 0.0173 - accuracy: 0.9945\n"
     ]
    },
    {
     "data": {
      "text/plain": [
       "<keras.callbacks.History at 0x2a52859abe0>"
      ]
     },
     "execution_count": 89,
     "metadata": {},
     "output_type": "execute_result"
    }
   ],
   "source": [
    "model.fit(X_train,y_train,epochs=100,batch_size=400)"
   ]
  },
  {
   "cell_type": "code",
   "execution_count": 85,
   "metadata": {},
   "outputs": [],
   "source": [
    "W1_1 = model.layers[0].get_weights()[0]"
   ]
  },
  {
   "cell_type": "code",
   "execution_count": 91,
   "metadata": {},
   "outputs": [
    {
     "name": "stdout",
     "output_type": "stream",
     "text": [
      "1/1 [==============================] - 0s 29ms/step\n"
     ]
    },
    {
     "data": {
      "text/plain": [
       "5"
      ]
     },
     "execution_count": 91,
     "metadata": {},
     "output_type": "execute_result"
    }
   ],
   "source": [
    "np.argmax(model.predict(X_train[[912]]))"
   ]
  },
  {
   "cell_type": "code",
   "execution_count": 92,
   "metadata": {},
   "outputs": [
    {
     "data": {
      "text/plain": [
       "5"
      ]
     },
     "execution_count": 92,
     "metadata": {},
     "output_type": "execute_result"
    }
   ],
   "source": [
    "np.argmax(y_train[912])"
   ]
  },
  {
   "cell_type": "code",
   "execution_count": 116,
   "metadata": {},
   "outputs": [
    {
     "data": {
      "text/plain": [
       "<matplotlib.image.AxesImage at 0x2a529712d00>"
      ]
     },
     "execution_count": 116,
     "metadata": {},
     "output_type": "execute_result"
    },
    {
     "data": {
      "image/png": "[encoded data removed]",
      "text/plain": [
       "<Figure size 432x288 with 1 Axes>"
      ]
     },
     "metadata": {
      "needs_background": "light"
     },
     "output_type": "display_data"
    }
   ],
   "source": [
    "plt.imshow(X_train[1000].reshape(28,28))"
   ]
  },
  {
   "cell_type": "code",
   "execution_count": 190,
   "metadata": {},
   "outputs": [],
   "source": [
    "model = keras.models.Sequential(\n",
    "    [\n",
    "        keras.layers.Dense(512,activation='relu',input_shape=(784,)),\n",
    "        keras.layers.Dense(256,activation='relu'),\n",
    "        keras.layers.Dense(10,activation='softmax'),\n",
    "    ]\n",
    ")"
   ]
  },
  {
   "cell_type": "code",
   "execution_count": 191,
   "metadata": {},
   "outputs": [],
   "source": [
    "W1 = model.layers[0].get_weights()[0]\n",
    "b1 = model.layers[0].get_weights()[1]\n",
    "W2 = model.layers[1].get_weights()[0]\n",
    "b2 = model.layers[1].get_weights()[1]\n",
    "W3 = model.layers[2].get_weights()[0]\n",
    "b3 = model.layers[2].get_weights()[1]"
   ]
  },
  {
   "cell_type": "code",
   "execution_count": 198,
   "metadata": {},
   "outputs": [],
   "source": [
    "l1 = np.dot(X_train,W1) + b1\n",
    "l1 = relu(l1)\n",
    "l2 = np.dot(l1,W2) + b2\n",
    "l2 = relu(l2)\n",
    "l3 = np.dot(l2,W3) + b3\n",
    "l3 = softmax(l3)"
   ]
  },
  {
   "cell_type": "code",
   "execution_count": 196,
   "metadata": {},
   "outputs": [
    {
     "data": {
      "text/plain": [
       "5"
      ]
     },
     "execution_count": 196,
     "metadata": {},
     "output_type": "execute_result"
    }
   ],
   "source": [
    "np.argmax(y_train[0])"
   ]
  },
  {
   "cell_type": "code",
   "execution_count": 199,
   "metadata": {},
   "outputs": [
    {
     "name": "stderr",
     "output_type": "stream",
     "text": [
      "<ipython-input-188-398ac9b8e706>:2: RuntimeWarning: divide by zero encountered in log\n",
      "  return -np.sum(t*np.log(y))\n",
      "<ipython-input-188-398ac9b8e706>:2: RuntimeWarning: invalid value encountered in multiply\n",
      "  return -np.sum(t*np.log(y))\n"
     ]
    },
    {
     "data": {
      "text/plain": [
       "nan"
      ]
     },
     "execution_count": 199,
     "metadata": {},
     "output_type": "execute_result"
    }
   ],
   "source": [
    "cross_entropy(l3,y_train)"
   ]
  },
  {
   "cell_type": "code",
   "execution_count": null,
   "metadata": {},
   "outputs": [],
   "source": []
  }
 ],
 "metadata": {
  "kernelspec": {
   "display_name": "Python 3.9.12 ('text')",
   "language": "python",
   "name": "python3"
  },
  "language_info": {
   "codemirror_mode": {
    "name": "ipython",
    "version": 3
   },
   "file_extension": ".py",
   "mimetype": "text/x-python",
   "name": "python",
   "nbconvert_exporter": "python",
   "pygments_lexer": "ipython3",
   "version": "3.9.12"
  },
  "vscode": {
   "interpreter": {
    "hash": "80dd2d74995cff030f05c4aaf2e1cbbecb94b10840da6517b5c52eb90417978d"
   }
  }
 },
 "nbformat": 4,
 "nbformat_minor": 4
}
