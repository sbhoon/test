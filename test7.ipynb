{
 "cells": [
  {
   "cell_type": "code",
   "execution_count": 2,
   "metadata": {},
   "outputs": [],
   "source": [
    "import numpy as np\n",
    "import pandas as pd"
   ]
  },
  {
   "cell_type": "code",
   "execution_count": 3,
   "metadata": {},
   "outputs": [],
   "source": [
    "data = np.random.randn(100,5)\n"
   ]
  },
  {
   "cell_type": "code",
   "execution_count": 4,
   "metadata": {},
   "outputs": [],
   "source": [
    "X = data[:,:-1]\n"
   ]
  },
  {
   "cell_type": "code",
   "execution_count": 5,
   "metadata": {},
   "outputs": [
    {
     "data": {
      "text/html": [
       "<div>\n",
       "<style scoped>\n",
       "    .dataframe tbody tr th:only-of-type {\n",
       "        vertical-align: middle;\n",
       "    }\n",
       "\n",
       "    .dataframe tbody tr th {\n",
       "        vertical-align: top;\n",
       "    }\n",
       "\n",
       "    .dataframe thead th {\n",
       "        text-align: right;\n",
       "    }\n",
       "</style>\n",
       "<table border=\"1\" class=\"dataframe\">\n",
       "  <thead>\n",
       "    <tr style=\"text-align: right;\">\n",
       "      <th></th>\n",
       "      <th>0</th>\n",
       "      <th>1</th>\n",
       "      <th>2</th>\n",
       "      <th>3</th>\n",
       "      <th>4</th>\n",
       "    </tr>\n",
       "  </thead>\n",
       "  <tbody>\n",
       "    <tr>\n",
       "      <th>0</th>\n",
       "      <td>1.415569</td>\n",
       "      <td>0.119675</td>\n",
       "      <td>-0.518148</td>\n",
       "      <td>0.480934</td>\n",
       "      <td>1.198948</td>\n",
       "    </tr>\n",
       "    <tr>\n",
       "      <th>1</th>\n",
       "      <td>-0.646145</td>\n",
       "      <td>-0.112640</td>\n",
       "      <td>0.445748</td>\n",
       "      <td>2.202426</td>\n",
       "      <td>1.145878</td>\n",
       "    </tr>\n",
       "    <tr>\n",
       "      <th>2</th>\n",
       "      <td>0.122192</td>\n",
       "      <td>0.025512</td>\n",
       "      <td>-2.752577</td>\n",
       "      <td>-0.662179</td>\n",
       "      <td>1.386015</td>\n",
       "    </tr>\n",
       "    <tr>\n",
       "      <th>3</th>\n",
       "      <td>-0.309781</td>\n",
       "      <td>0.050979</td>\n",
       "      <td>0.352289</td>\n",
       "      <td>0.028429</td>\n",
       "      <td>-0.803381</td>\n",
       "    </tr>\n",
       "    <tr>\n",
       "      <th>4</th>\n",
       "      <td>-0.555104</td>\n",
       "      <td>-2.047758</td>\n",
       "      <td>-0.719115</td>\n",
       "      <td>0.337331</td>\n",
       "      <td>0.245075</td>\n",
       "    </tr>\n",
       "    <tr>\n",
       "      <th>...</th>\n",
       "      <td>...</td>\n",
       "      <td>...</td>\n",
       "      <td>...</td>\n",
       "      <td>...</td>\n",
       "      <td>...</td>\n",
       "    </tr>\n",
       "    <tr>\n",
       "      <th>95</th>\n",
       "      <td>0.979664</td>\n",
       "      <td>0.062335</td>\n",
       "      <td>0.506759</td>\n",
       "      <td>-0.988624</td>\n",
       "      <td>0.079939</td>\n",
       "    </tr>\n",
       "    <tr>\n",
       "      <th>96</th>\n",
       "      <td>-0.213690</td>\n",
       "      <td>-0.323729</td>\n",
       "      <td>-0.111581</td>\n",
       "      <td>0.353143</td>\n",
       "      <td>-0.465631</td>\n",
       "    </tr>\n",
       "    <tr>\n",
       "      <th>97</th>\n",
       "      <td>0.266728</td>\n",
       "      <td>1.245484</td>\n",
       "      <td>0.031764</td>\n",
       "      <td>0.699571</td>\n",
       "      <td>-0.058412</td>\n",
       "    </tr>\n",
       "    <tr>\n",
       "      <th>98</th>\n",
       "      <td>-2.146948</td>\n",
       "      <td>0.714481</td>\n",
       "      <td>1.565391</td>\n",
       "      <td>-0.760855</td>\n",
       "      <td>-0.626029</td>\n",
       "    </tr>\n",
       "    <tr>\n",
       "      <th>99</th>\n",
       "      <td>-0.001559</td>\n",
       "      <td>-0.346921</td>\n",
       "      <td>-1.984666</td>\n",
       "      <td>0.120452</td>\n",
       "      <td>-0.866438</td>\n",
       "    </tr>\n",
       "  </tbody>\n",
       "</table>\n",
       "<p>100 rows × 5 columns</p>\n",
       "</div>"
      ],
      "text/plain": [
       "           0         1         2         3         4\n",
       "0   1.415569  0.119675 -0.518148  0.480934  1.198948\n",
       "1  -0.646145 -0.112640  0.445748  2.202426  1.145878\n",
       "2   0.122192  0.025512 -2.752577 -0.662179  1.386015\n",
       "3  -0.309781  0.050979  0.352289  0.028429 -0.803381\n",
       "4  -0.555104 -2.047758 -0.719115  0.337331  0.245075\n",
       "..       ...       ...       ...       ...       ...\n",
       "95  0.979664  0.062335  0.506759 -0.988624  0.079939\n",
       "96 -0.213690 -0.323729 -0.111581  0.353143 -0.465631\n",
       "97  0.266728  1.245484  0.031764  0.699571 -0.058412\n",
       "98 -2.146948  0.714481  1.565391 -0.760855 -0.626029\n",
       "99 -0.001559 -0.346921 -1.984666  0.120452 -0.866438\n",
       "\n",
       "[100 rows x 5 columns]"
      ]
     },
     "execution_count": 5,
     "metadata": {},
     "output_type": "execute_result"
    }
   ],
   "source": [
    "pd.DataFrame(data)"
   ]
  },
  {
   "cell_type": "code",
   "execution_count": 6,
   "metadata": {},
   "outputs": [],
   "source": [
    "#1. network 설계\n",
    "#2. predict\n",
    "#3. loss\n",
    "#4. loss 미분 --> gradient\n",
    "#5. grad 값을 network 에 적용 network - gradient * 학습률\n",
    "#6. 1~5번을 반복"
   ]
  },
  {
   "cell_type": "code",
   "execution_count": 11,
   "metadata": {},
   "outputs": [],
   "source": [
    "#1\n",
    "input_layer = np.random.randn(4,7)\n",
    "layer1 = np.random.randn(7,10)\n",
    "layer2 = np.random.randn(10,5)\n",
    "layer3 = np.random.randn(5,10)\n",
    "output_later = np.random.randn(10,1)"
   ]
  },
  {
   "cell_type": "code",
   "execution_count": 8,
   "metadata": {},
   "outputs": [
    {
     "data": {
      "text/plain": [
       "(100, 4)"
      ]
     },
     "execution_count": 8,
     "metadata": {},
     "output_type": "execute_result"
    }
   ],
   "source": [
    "X.shape"
   ]
  },
  {
   "cell_type": "code",
   "execution_count": 9,
   "metadata": {},
   "outputs": [],
   "source": [
    "#2\n",
    "\n",
    "l1 = np.dot(X, input_layer)\n",
    "l2 = np.dot(l1, layer1)\n",
    "l3 = np.dot(l2, layer2)\n",
    "l4 = np.dot(l3, layer3)\n",
    "y_hat = np.dot(l4, output_later)"
   ]
  },
  {
   "cell_type": "code",
   "execution_count": 10,
   "metadata": {},
   "outputs": [
    {
     "ename": "NameError",
     "evalue": "name 'y' is not defined",
     "output_type": "error",
     "traceback": [
      "\u001b[1;31m---------------------------------------------------------------------------\u001b[0m",
      "\u001b[1;31mNameError\u001b[0m                                 Traceback (most recent call last)",
      "\u001b[1;32md:\\sbhoon\\worksapace\\test7.ipynb 셀 9\u001b[0m in \u001b[0;36m<cell line: 5>\u001b[1;34m()\u001b[0m\n\u001b[0;32m      <a href='vscode-notebook-cell:/d%3A/sbhoon/worksapace/test7.ipynb#ch0000008?line=1'>2</a>\u001b[0m \u001b[39mdef\u001b[39;00m \u001b[39mmse\u001b[39m(y,t):\n\u001b[0;32m      <a href='vscode-notebook-cell:/d%3A/sbhoon/worksapace/test7.ipynb#ch0000008?line=2'>3</a>\u001b[0m     \u001b[39mreturn\u001b[39;00m np\u001b[39m.\u001b[39mmean((y\u001b[39m-\u001b[39mt)\u001b[39m*\u001b[39m\u001b[39m*\u001b[39m\u001b[39m2\u001b[39m)\n\u001b[1;32m----> <a href='vscode-notebook-cell:/d%3A/sbhoon/worksapace/test7.ipynb#ch0000008?line=4'>5</a>\u001b[0m loss \u001b[39m=\u001b[39m mse(y_hat,y)\n",
      "\u001b[1;31mNameError\u001b[0m: name 'y' is not defined"
     ]
    }
   ],
   "source": [
    "#3\n",
    "def mse(y,t):\n",
    "    return np.mean((y-t)**2)\n",
    "    \n",
    "loss = mse(y_hat,y)    "
   ]
  },
  {
   "cell_type": "code",
   "execution_count": null,
   "metadata": {},
   "outputs": [
    {
     "data": {
      "text/plain": [
       "array([-0.83431742,  0.67069162,  0.53745942,  1.42994825,  0.20274364,\n",
       "        0.868419  , -1.30861999,  1.28297167,  0.74121033,  1.09427505,\n",
       "        0.65393229, -0.24206121, -2.44305045, -0.24533115, -0.56652032,\n",
       "        0.92685496,  0.51991628,  1.64681451, -0.68151316,  0.04082856,\n",
       "        0.1595046 , -1.83688087, -0.1214698 , -0.88535628, -0.47786119,\n",
       "       -0.32098286, -0.35672736,  0.55946554, -1.6182937 , -0.99326607,\n",
       "        0.50930598, -0.62601928, -0.88021534,  0.80809323, -0.89570091,\n",
       "       -0.7704306 ,  0.55249196,  0.7480292 , -0.70482653, -0.24365413,\n",
       "       -1.26011935, -0.00940958,  1.44436534,  0.55992198, -1.74745956,\n",
       "       -0.32502987, -0.25150673,  0.48472559, -0.33726506, -0.50234653,\n",
       "       -0.32037965,  1.39014711,  0.47629653, -0.48881172, -0.29588818,\n",
       "       -1.45115938, -0.52261497, -0.23193078,  1.31300491,  0.37483235,\n",
       "        0.34898611, -2.83085031,  1.01885226,  0.5031973 ,  0.8955099 ,\n",
       "        1.06370051,  2.71414654, -0.75164881,  1.23966927,  0.3914853 ,\n",
       "        1.18239096, -1.5770454 , -0.85953856, -1.15605274, -1.42284584,\n",
       "       -0.02012852,  1.21853472, -0.56548408,  0.3658609 ,  0.55176701,\n",
       "       -0.61306843,  0.53132994, -1.01556348,  1.79191229,  0.95369091,\n",
       "       -0.06591502, -1.75211601,  1.10203579, -1.18333941,  0.31712399,\n",
       "        0.80386842, -1.48104749, -0.02356188, -2.11923171, -0.19160484,\n",
       "       -1.0286439 , -0.78255684,  0.86147218, -0.81265859,  0.47615358])"
      ]
     },
     "execution_count": 69,
     "metadata": {},
     "output_type": "execute_result"
    }
   ],
   "source": []
  },
  {
   "cell_type": "code",
   "execution_count": null,
   "metadata": {},
   "outputs": [],
   "source": [
    "def gradient(f,x):\n",
    "    h = 0.0001\n",
    "    return (f(x+h) - f(x))/h"
   ]
  },
  {
   "cell_type": "code",
   "execution_count": null,
   "metadata": {},
   "outputs": [],
   "source": [
    "def func1(x):\n",
    "    return 2*(x**2) + 3 * x"
   ]
  },
  {
   "cell_type": "code",
   "execution_count": null,
   "metadata": {},
   "outputs": [
    {
     "data": {
      "text/plain": [
       "11.000200000026439"
      ]
     },
     "execution_count": 54,
     "metadata": {},
     "output_type": "execute_result"
    }
   ],
   "source": [
    "gradient(func1,2)"
   ]
  },
  {
   "cell_type": "code",
   "execution_count": null,
   "metadata": {},
   "outputs": [],
   "source": [
    "\n",
    "def func2(x):\n",
    "    return x[0]**2 + x[1]**2"
   ]
  },
  {
   "cell_type": "code",
   "execution_count": null,
   "metadata": {},
   "outputs": [
    {
     "data": {
      "text/plain": [
       "13"
      ]
     },
     "execution_count": 60,
     "metadata": {},
     "output_type": "execute_result"
    }
   ],
   "source": [
    "func2(np.array([2,3]))"
   ]
  },
  {
   "cell_type": "code",
   "execution_count": null,
   "metadata": {},
   "outputs": [
    {
     "name": "stdout",
     "output_type": "stream",
     "text": [
      "2\n",
      "3\n"
     ]
    }
   ],
   "source": [
    "x= np.array([2,3])\n",
    "\n",
    "for idx in range(x.size):\n",
    "        print(x[idx])"
   ]
  },
  {
   "cell_type": "code",
   "execution_count": null,
   "metadata": {},
   "outputs": [],
   "source": [
    "def par_diff(f,x):\n",
    "    h = 1e-4\n",
    "    grad = np.zeros_like(x)\n",
    "    for idx in range(x.size):\n",
    "        tmp_x = x[idx]\n",
    "        x[idx] = tmp_x + h\n",
    "        fxh = f(x)\n",
    "        x[idx] = tmp_x\n",
    "        fx = f(x)\n",
    "        grad[idx] = (fxh - fx)/h\n",
    "    return grad"
   ]
  },
  {
   "cell_type": "code",
   "execution_count": null,
   "metadata": {},
   "outputs": [
    {
     "data": {
      "text/plain": [
       "array([4.0001, 6.0001])"
      ]
     },
     "execution_count": 66,
     "metadata": {},
     "output_type": "execute_result"
    }
   ],
   "source": [
    "x = np.array([2.,3.])\n",
    "par_diff(func2,x)"
   ]
  },
  {
   "cell_type": "code",
   "execution_count": null,
   "metadata": {},
   "outputs": [],
   "source": [
    "def numerical_1d(f,x):\n",
    "    h = 1e-4\n",
    "    grad = np.zeros_like(x)\n",
    "    for idx in range(x.size):\n",
    "        tmp_x = x[idx]\n",
    "        x[idx] = tmp_x + h\n",
    "        fxh = f(x)\n",
    "        x[idx] = tmp_x\n",
    "        fx = f(x)\n",
    "        grad[idx]  = (fxh-fx)/h\n",
    "    return grad\n",
    "\n",
    "def numerical_2d(f,x):\n",
    "    h = 1e-4\n",
    "    grad = np.zeros_like(x)\n",
    "    for idx, x in enumerate(x):\n",
    "        grad[idx] = numerical_1d(x)\n",
    "    return grad\n"
   ]
  },
  {
   "cell_type": "code",
   "execution_count": null,
   "metadata": {},
   "outputs": [],
   "source": [
    "def numerical_gradient(f,x) :\n",
    "    h = 1e-4\n",
    "    grads = np.zeros_like(x)\n",
    "    it = np.nditer(x,flags=['multi_index'],op_flags=['readwrite'])\n",
    "    while not it.finished:\n",
    "        idx = it.multi_index\n",
    "        tmp_x = x[idx]\n",
    "        x[idx] = tmp_x + h\n",
    "        fxh = f(x)\n",
    "        x[idx] = tmp_x\n",
    "        fx = f(x)\n",
    "        grads[idx]  = (fxh-fx)/h\n",
    "        it.iternext()\n",
    "    return grads        "
   ]
  },
  {
   "cell_type": "code",
   "execution_count": null,
   "metadata": {},
   "outputs": [
    {
     "data": {
      "text/plain": [
       "array([4.0001, 6.0001])"
      ]
     },
     "execution_count": 87,
     "metadata": {},
     "output_type": "execute_result"
    }
   ],
   "source": [
    "x = np.array([2.,3.])\n",
    "numerical_gradient(func2,x)"
   ]
  }
 ],
 "metadata": {
  "kernelspec": {
   "display_name": "Python 3.9.12 ('text')",
   "language": "python",
   "name": "python3"
  },
  "language_info": {
   "codemirror_mode": {
    "name": "ipython",
    "version": 3
   },
   "file_extension": ".py",
   "mimetype": "text/x-python",
   "name": "python",
   "nbconvert_exporter": "python",
   "pygments_lexer": "ipython3",
   "version": "3.9.12"
  },
  "orig_nbformat": 4,
  "vscode": {
   "interpreter": {
    "hash": "80dd2d74995cff030f05c4aaf2e1cbbecb94b10840da6517b5c52eb90417978d"
   }
  }
 },
 "nbformat": 4,
 "nbformat_minor": 2
}
