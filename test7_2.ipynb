{
 "cells": [
  {
   "cell_type": "code",
   "execution_count": 17,
   "metadata": {},
   "outputs": [],
   "source": [
    "import numpy as np"
   ]
  },
  {
   "cell_type": "code",
   "execution_count": 18,
   "metadata": {},
   "outputs": [],
   "source": [
    "def sigmoid(x):\n",
    "    return 1/(1+np.exp(-x))\n",
    "def step(x):\n",
    "    return np.where(x>0,1,0)\n",
    "def relu(x):\n",
    "    return np.where(x>0,x,0)\n",
    "def softmax(x):\n",
    "    x = x- np.max(x,axis=1).reshape(-1,1)\n",
    "    return np.exp(x)/np.sum(np.exp(x),axis=1).reshape(-1,1)\n",
    "def cross_entropy(y,t):\n",
    "    return -np.sum(t*np.log(y))"
   ]
  },
  {
   "cell_type": "code",
   "execution_count": 43,
   "metadata": {},
   "outputs": [],
   "source": [
    "class Network():\n",
    "    def __init__(self):\n",
    "        self.layers = {}\n",
    "        \n",
    "    def add(self, input_shape, output, activation):\n",
    "        act_dic = {\n",
    "            \"sigmoid\":sigmoid,\n",
    "            \"relu\":relu,\n",
    "            \"softmax\":softmax\n",
    "        }\n",
    "        \n",
    "        i = len(self.layers) // 3 + 1\n",
    "        self.layers['W' + str(i)] = np.random.randn(output, input_shape)\n",
    "        self.layers['b' + str(i)] = np.zeros(input_shape)\n",
    "        self.layers['activation' + str(i)] = act_dic[activation]\n",
    "\n",
    "    def predict(self, x):\n",
    "        for i in range(len(self.layers) // 3):\n",
    "            if i == 0:\n",
    "                pred = x.copy()\n",
    "            pred = np.dot(pred, self.layers['W' + str(i+1)] + self.layers['b' + str(i+1)])\n",
    "            activation = self.layers['activation' + str(i+1)]\n",
    "            pred = activation(pred)\n",
    "        return pred\n"
   ]
  },
  {
   "cell_type": "code",
   "execution_count": 20,
   "metadata": {},
   "outputs": [],
   "source": [
    "from sklearn.datasets import load_iris"
   ]
  },
  {
   "cell_type": "code",
   "execution_count": 21,
   "metadata": {},
   "outputs": [],
   "source": [
    "X = load_iris()['data']\n",
    "y = load_iris()['target']"
   ]
  },
  {
   "cell_type": "code",
   "execution_count": 26,
   "metadata": {},
   "outputs": [],
   "source": [
    "from keras.utils import to_categorical"
   ]
  },
  {
   "cell_type": "code",
   "execution_count": 27,
   "metadata": {},
   "outputs": [],
   "source": [
    "y = to_categorical(y)"
   ]
  },
  {
   "cell_type": "code",
   "execution_count": 45,
   "metadata": {},
   "outputs": [],
   "source": [
    "model = Network()\n",
    "model.add(50,4,activation='relu')\n",
    "model.add(30,50,activation='sigmoid')\n",
    "model.add(3,30,activation='softmax')"
   ]
  },
  {
   "cell_type": "code",
   "execution_count": 47,
   "metadata": {},
   "outputs": [
    {
     "data": {
      "text/plain": [
       "(150, 3)"
      ]
     },
     "execution_count": 47,
     "metadata": {},
     "output_type": "execute_result"
    }
   ],
   "source": [
    "model.predict(X).shape"
   ]
  }
 ],
 "metadata": {
  "kernelspec": {
   "display_name": "Python 3.9.12 ('base')",
   "language": "python",
   "name": "python3"
  },
  "language_info": {
   "codemirror_mode": {
    "name": "ipython",
    "version": 3
   },
   "file_extension": ".py",
   "mimetype": "text/x-python",
   "name": "python",
   "nbconvert_exporter": "python",
   "pygments_lexer": "ipython3",
   "version": "3.9.12"
  },
  "orig_nbformat": 4,
  "vscode": {
   "interpreter": {
    "hash": "996489e7b535382952e1f0cbc47ae133c35cde8716d4996bf342c3a1d61ac153"
   }
  }
 },
 "nbformat": 4,
 "nbformat_minor": 2
}
