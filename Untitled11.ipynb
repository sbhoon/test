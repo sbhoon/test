{
 "cells": [
  {
   "cell_type": "code",
   "execution_count": 1,
   "metadata": {},
   "outputs": [],
   "source": [
    "import numpy as np\n",
    "import pandas as pd"
   ]
  },
  {
   "cell_type": "code",
   "execution_count": 6,
   "metadata": {},
   "outputs": [],
   "source": [
    "data = np.random.randn(100,5)\n"
   ]
  },
  {
   "cell_type": "code",
   "execution_count": 8,
   "metadata": {},
   "outputs": [],
   "source": [
    "X = data[:,:-1]\n",
    "y = data[:,-1]"
   ]
  },
  {
   "cell_type": "code",
   "execution_count": 9,
   "metadata": {},
   "outputs": [
    {
     "data": {
      "text/html": [
       "<div>\n",
       "<style scoped>\n",
       "    .dataframe tbody tr th:only-of-type {\n",
       "        vertical-align: middle;\n",
       "    }\n",
       "\n",
       "    .dataframe tbody tr th {\n",
       "        vertical-align: top;\n",
       "    }\n",
       "\n",
       "    .dataframe thead th {\n",
       "        text-align: right;\n",
       "    }\n",
       "</style>\n",
       "<table border=\"1\" class=\"dataframe\">\n",
       "  <thead>\n",
       "    <tr style=\"text-align: right;\">\n",
       "      <th></th>\n",
       "      <th>0</th>\n",
       "      <th>1</th>\n",
       "      <th>2</th>\n",
       "      <th>3</th>\n",
       "    </tr>\n",
       "  </thead>\n",
       "  <tbody>\n",
       "    <tr>\n",
       "      <th>0</th>\n",
       "      <td>-0.085396</td>\n",
       "      <td>-1.117367</td>\n",
       "      <td>1.162223</td>\n",
       "      <td>0.242989</td>\n",
       "    </tr>\n",
       "    <tr>\n",
       "      <th>1</th>\n",
       "      <td>-0.545002</td>\n",
       "      <td>0.751708</td>\n",
       "      <td>-0.670281</td>\n",
       "      <td>-0.381926</td>\n",
       "    </tr>\n",
       "    <tr>\n",
       "      <th>2</th>\n",
       "      <td>-1.044757</td>\n",
       "      <td>1.030025</td>\n",
       "      <td>1.669359</td>\n",
       "      <td>-0.061712</td>\n",
       "    </tr>\n",
       "    <tr>\n",
       "      <th>3</th>\n",
       "      <td>2.655359</td>\n",
       "      <td>-1.357752</td>\n",
       "      <td>0.371646</td>\n",
       "      <td>-0.541218</td>\n",
       "    </tr>\n",
       "    <tr>\n",
       "      <th>4</th>\n",
       "      <td>0.324711</td>\n",
       "      <td>1.415716</td>\n",
       "      <td>1.816108</td>\n",
       "      <td>0.594137</td>\n",
       "    </tr>\n",
       "    <tr>\n",
       "      <th>...</th>\n",
       "      <td>...</td>\n",
       "      <td>...</td>\n",
       "      <td>...</td>\n",
       "      <td>...</td>\n",
       "    </tr>\n",
       "    <tr>\n",
       "      <th>95</th>\n",
       "      <td>-1.939698</td>\n",
       "      <td>-0.138892</td>\n",
       "      <td>-0.879777</td>\n",
       "      <td>-3.456585</td>\n",
       "    </tr>\n",
       "    <tr>\n",
       "      <th>96</th>\n",
       "      <td>-0.399800</td>\n",
       "      <td>0.825968</td>\n",
       "      <td>-0.571238</td>\n",
       "      <td>-1.302055</td>\n",
       "    </tr>\n",
       "    <tr>\n",
       "      <th>97</th>\n",
       "      <td>-0.308640</td>\n",
       "      <td>-0.100038</td>\n",
       "      <td>-0.034301</td>\n",
       "      <td>-0.559101</td>\n",
       "    </tr>\n",
       "    <tr>\n",
       "      <th>98</th>\n",
       "      <td>-0.354636</td>\n",
       "      <td>1.344223</td>\n",
       "      <td>0.135105</td>\n",
       "      <td>-0.914782</td>\n",
       "    </tr>\n",
       "    <tr>\n",
       "      <th>99</th>\n",
       "      <td>-1.390943</td>\n",
       "      <td>-0.798800</td>\n",
       "      <td>0.452323</td>\n",
       "      <td>-1.441569</td>\n",
       "    </tr>\n",
       "  </tbody>\n",
       "</table>\n",
       "<p>100 rows × 4 columns</p>\n",
       "</div>"
      ],
      "text/plain": [
       "           0         1         2         3\n",
       "0  -0.085396 -1.117367  1.162223  0.242989\n",
       "1  -0.545002  0.751708 -0.670281 -0.381926\n",
       "2  -1.044757  1.030025  1.669359 -0.061712\n",
       "3   2.655359 -1.357752  0.371646 -0.541218\n",
       "4   0.324711  1.415716  1.816108  0.594137\n",
       "..       ...       ...       ...       ...\n",
       "95 -1.939698 -0.138892 -0.879777 -3.456585\n",
       "96 -0.399800  0.825968 -0.571238 -1.302055\n",
       "97 -0.308640 -0.100038 -0.034301 -0.559101\n",
       "98 -0.354636  1.344223  0.135105 -0.914782\n",
       "99 -1.390943 -0.798800  0.452323 -1.441569\n",
       "\n",
       "[100 rows x 4 columns]"
      ]
     },
     "execution_count": 9,
     "metadata": {},
     "output_type": "execute_result"
    }
   ],
   "source": [
    "pd.DataFrame(X)"
   ]
  },
  {
   "cell_type": "code",
   "execution_count": 12,
   "metadata": {},
   "outputs": [],
   "source": [
    "#1. network 설계\n",
    "#2. predict\n",
    "#3. loss \n",
    "#4. loss 미분 --> gradient\n",
    "#5. grad 값을 network 에 적용 network - gradient*학습률\n",
    "#6. 1~5번을 반복"
   ]
  },
  {
   "cell_type": "code",
   "execution_count": 15,
   "metadata": {},
   "outputs": [],
   "source": [
    "#1.\n",
    "input_layer = np.random.randn(4,7)\n",
    "layer1 = np.random.randn(7,10)\n",
    "layer2 = np.random.randn(10,5)\n",
    "layer3 = np.random.randn(5,10)\n",
    "ouput_layer = np.random.randn(10,1)"
   ]
  },
  {
   "cell_type": "code",
   "execution_count": 17,
   "metadata": {},
   "outputs": [],
   "source": [
    "#2.\n",
    "l1 = np.dot(X,input_layer)\n",
    "l2 = np.dot(l1,layer1)\n",
    "l3 = np.dot(l2,layer2)\n",
    "l4 = np.dot(l3,layer3)\n",
    "y_hat = np.dot(l4,ouput_layer)"
   ]
  },
  {
   "cell_type": "code",
   "execution_count": 18,
   "metadata": {},
   "outputs": [],
   "source": [
    "#3. \n",
    "def mse(y,t):\n",
    "    return np.mean((y-t)**2)\n",
    "loss = mse(y_hat,y)"
   ]
  },
  {
   "cell_type": "code",
   "execution_count": 20,
   "metadata": {},
   "outputs": [
    {
     "data": {
      "text/plain": [
       "8268.26255725674"
      ]
     },
     "execution_count": 20,
     "metadata": {},
     "output_type": "execute_result"
    }
   ],
   "source": [
    "loss"
   ]
  },
  {
   "cell_type": "code",
   "execution_count": 21,
   "metadata": {},
   "outputs": [],
   "source": [
    "def gradient(f,x):\n",
    "    h = 0.0001\n",
    "    return (f(x+h) - f(x))/h"
   ]
  },
  {
   "cell_type": "code",
   "execution_count": 22,
   "metadata": {},
   "outputs": [],
   "source": [
    "def func1(x):\n",
    "    return 2*(x**2) + 3*x"
   ]
  },
  {
   "cell_type": "code",
   "execution_count": 24,
   "metadata": {},
   "outputs": [
    {
     "data": {
      "text/plain": [
       "11.000200000026439"
      ]
     },
     "execution_count": 24,
     "metadata": {},
     "output_type": "execute_result"
    }
   ],
   "source": [
    "gradient(func1,2)"
   ]
  },
  {
   "cell_type": "code",
   "execution_count": 25,
   "metadata": {},
   "outputs": [
    {
     "data": {
      "text/plain": [
       "(100, 1)"
      ]
     },
     "execution_count": 25,
     "metadata": {},
     "output_type": "execute_result"
    }
   ],
   "source": [
    "y_hat.shape"
   ]
  },
  {
   "cell_type": "code",
   "execution_count": 28,
   "metadata": {},
   "outputs": [],
   "source": [
    "def func2(x):\n",
    "    return x[0]**2 + x[1]**2"
   ]
  },
  {
   "cell_type": "code",
   "execution_count": 30,
   "metadata": {},
   "outputs": [
    {
     "data": {
      "text/plain": [
       "2"
      ]
     },
     "execution_count": 30,
     "metadata": {},
     "output_type": "execute_result"
    }
   ],
   "source": [
    "np.array([2,3]).size"
   ]
  },
  {
   "cell_type": "code",
   "execution_count": 29,
   "metadata": {},
   "outputs": [
    {
     "data": {
      "text/plain": [
       "13"
      ]
     },
     "execution_count": 29,
     "metadata": {},
     "output_type": "execute_result"
    }
   ],
   "source": [
    "func2(np.array([2,3]))"
   ]
  },
  {
   "cell_type": "code",
   "execution_count": 33,
   "metadata": {},
   "outputs": [],
   "source": [
    "def par_diff(f,x):\n",
    "    h = 1e-4\n",
    "    grad = np.zeros_like(x)\n",
    "    for idx in range(x.size):\n",
    "        tmp_x = x[idx]\n",
    "        x[idx] = tmp_x + h\n",
    "        fxh = f(x)\n",
    "        x[idx] = tmp_x\n",
    "        fx = f(x)\n",
    "        grad[idx] = (fxh-fx)/h\n",
    "    return grad"
   ]
  },
  {
   "cell_type": "code",
   "execution_count": 35,
   "metadata": {},
   "outputs": [
    {
     "data": {
      "text/plain": [
       "array([4.0001, 6.0001])"
      ]
     },
     "execution_count": 35,
     "metadata": {},
     "output_type": "execute_result"
    }
   ],
   "source": [
    "def numerical_1d(f,x):\n",
    "    h = 1e-4\n",
    "    grad = np.zeros_like(x)\n",
    "    for idx in range(x.size):\n",
    "        tmp_x = x[idx]\n",
    "        x[idx] = tmp_x + h\n",
    "        fxh = f(x)\n",
    "        x[idx] = tmp_x\n",
    "        fx = f(x)\n",
    "        grad[idx] = (fxh-fx)/h\n",
    "    return grad\n",
    "\n",
    "def numerical_2d(f,x):\n",
    "    h = 1e-4\n",
    "    grad = np.zeros_like(x)\n",
    "    for idx, x in enumerate(x):\n",
    "        grad[idx] = numerical_1d(x)\n",
    "    return grad"
   ]
  },
  {
   "cell_type": "code",
   "execution_count": 49,
   "metadata": {},
   "outputs": [],
   "source": [
    "def numerical_gradient(f,x):\n",
    "    h = 1e-4\n",
    "    grads = np.zeros_like(x)\n",
    "    it = np.nditer(x,flags=['multi_index'],op_flags=['readwrite'])\n",
    "    while not it.finished:\n",
    "        idx = it.multi_index\n",
    "        tmp_x = x[idx]\n",
    "        x[idx] = tmp_x + h\n",
    "        fxh = f(x)\n",
    "        x[idx] = tmp_x\n",
    "        fx = f(x)\n",
    "        grads[idx] = (fxh-fx)/h\n",
    "        it.iternext()\n",
    "    return grads"
   ]
  },
  {
   "cell_type": "code",
   "execution_count": 50,
   "metadata": {},
   "outputs": [
    {
     "data": {
      "text/plain": [
       "array([4.0001, 6.0001])"
      ]
     },
     "execution_count": 50,
     "metadata": {},
     "output_type": "execute_result"
    }
   ],
   "source": [
    "x = np.array([2.,3.])  \n",
    "numerical_gradient(func2,x)    "
   ]
  },
  {
   "cell_type": "code",
   "execution_count": null,
   "metadata": {},
   "outputs": [],
   "source": []
  }
 ],
 "metadata": {
  "kernelspec": {
   "display_name": "Python 3",
   "language": "python",
   "name": "python3"
  },
  "language_info": {
   "codemirror_mode": {
    "name": "ipython",
    "version": 3
   },
   "file_extension": ".py",
   "mimetype": "text/x-python",
   "name": "python",
   "nbconvert_exporter": "python",
   "pygments_lexer": "ipython3",
   "version": "3.8.5"
  }
 },
 "nbformat": 4,
 "nbformat_minor": 4
}
