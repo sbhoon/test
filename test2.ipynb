{
 "cells": [
  {
   "cell_type": "code",
   "execution_count": 10,
   "metadata": {},
   "outputs": [
    {
     "name": "stdout",
     "output_type": "stream",
     "text": [
      "aaa\n"
     ]
    }
   ],
   "source": [
    "score = float(input(\"input >\"))\n",
    "\n",
    "if score == 4.5:\n",
    "    print(\"aaa\")\n",
    "else :\n",
    "    print(\"bbb\")"
   ]
  },
  {
   "cell_type": "code",
   "execution_count": 11,
   "metadata": {},
   "outputs": [
    {
     "data": {
      "text/plain": [
       "float"
      ]
     },
     "execution_count": 11,
     "metadata": {},
     "output_type": "execute_result"
    }
   ],
   "source": [
    "type(score)"
   ]
  },
  {
   "cell_type": "code",
   "execution_count": 13,
   "metadata": {},
   "outputs": [
    {
     "name": "stdout",
     "output_type": "stream",
     "text": [
      "2 * 1 =  2\n",
      "2 * 2 =  4\n",
      "2 * 3 =  6\n",
      "2 * 4 =  8\n",
      "2 * 5 = 10\n",
      "2 * 6 = 12\n",
      "2 * 7 = 14\n",
      "2 * 8 = 16\n",
      "2 * 9 = 18\n",
      "\n",
      "3 * 1 =  3\n",
      "3 * 2 =  6\n",
      "3 * 3 =  9\n",
      "3 * 4 = 12\n",
      "3 * 5 = 15\n",
      "3 * 6 = 18\n",
      "3 * 7 = 21\n",
      "3 * 8 = 24\n",
      "3 * 9 = 27\n",
      "\n",
      "4 * 1 =  4\n",
      "4 * 2 =  8\n",
      "4 * 3 = 12\n",
      "4 * 4 = 16\n",
      "4 * 5 = 20\n",
      "4 * 6 = 24\n",
      "4 * 7 = 28\n",
      "4 * 8 = 32\n",
      "4 * 9 = 36\n",
      "\n",
      "5 * 1 =  5\n",
      "5 * 2 = 10\n",
      "5 * 3 = 15\n",
      "5 * 4 = 20\n",
      "5 * 5 = 25\n",
      "5 * 6 = 30\n",
      "5 * 7 = 35\n",
      "5 * 8 = 40\n",
      "5 * 9 = 45\n",
      "\n",
      "6 * 1 =  6\n",
      "6 * 2 = 12\n",
      "6 * 3 = 18\n",
      "6 * 4 = 24\n",
      "6 * 5 = 30\n",
      "6 * 6 = 36\n",
      "6 * 7 = 42\n",
      "6 * 8 = 48\n",
      "6 * 9 = 54\n",
      "\n",
      "7 * 1 =  7\n",
      "7 * 2 = 14\n",
      "7 * 3 = 21\n",
      "7 * 4 = 28\n",
      "7 * 5 = 35\n",
      "7 * 6 = 42\n",
      "7 * 7 = 49\n",
      "7 * 8 = 56\n",
      "7 * 9 = 63\n",
      "\n",
      "8 * 1 =  8\n",
      "8 * 2 = 16\n",
      "8 * 3 = 24\n",
      "8 * 4 = 32\n",
      "8 * 5 = 40\n",
      "8 * 6 = 48\n",
      "8 * 7 = 56\n",
      "8 * 8 = 64\n",
      "8 * 9 = 72\n",
      "\n",
      "9 * 1 =  9\n",
      "9 * 2 = 18\n",
      "9 * 3 = 27\n",
      "9 * 4 = 36\n",
      "9 * 5 = 45\n",
      "9 * 6 = 54\n",
      "9 * 7 = 63\n",
      "9 * 8 = 72\n",
      "9 * 9 = 81\n",
      "\n"
     ]
    }
   ],
   "source": [
    "def multi(m):\n",
    "    for n in range(1, 10):\n",
    "        print(f'{m} * {n} = {m*n:2d}')\n",
    "\n",
    "if __name__ == '__main__':\n",
    "    for i in range(2, 10):\n",
    "        multi(i)\n",
    "        print()"
   ]
  },
  {
   "cell_type": "code",
   "execution_count": 27,
   "metadata": {},
   "outputs": [
    {
     "name": "stdout",
     "output_type": "stream",
     "text": [
      "{'dream': 0, 'car': 99, 'blockdmask': 1, 'error': 30, 'app': 20}\n",
      "['app', 'blockdmask', 'car', 'dream', 'error']\n",
      "[('app', 20), ('blockdmask', 1), ('car', 99), ('dream', 0), ('error', 30)]\n"
     ]
    }
   ],
   "source": [
    "d = {\"dream\": 0, \"car\": 99, \"blockdmask\": 1, \"error\": 30, \"app\": 20}\n",
    "\n",
    "print(f'{d}')\n",
    "\n",
    "print(sorted(d))\n",
    "\n",
    "print(sorted(d.items()))"
   ]
  },
  {
   "cell_type": "code",
   "execution_count": 32,
   "metadata": {},
   "outputs": [
    {
     "data": {
      "text/plain": [
       "'안녕'"
      ]
     },
     "execution_count": 32,
     "metadata": {},
     "output_type": "execute_result"
    }
   ],
   "source": [
    "aaa = \"안녕하세요\"\n",
    "aaa\n",
    "aaa[0:2]"
   ]
  },
  {
   "cell_type": "code",
   "execution_count": 39,
   "metadata": {},
   "outputs": [
    {
     "name": "stdout",
     "output_type": "stream",
     "text": [
      "['김씨', '최씨', '이씨', '박씨', '정씨', '장씨']\n",
      "['김씨', '최씨', '이씨', '박씨', '정씨', '장씨']\n",
      "['김씨', '최씨', '이씨', '박씨', '정씨', '장씨']\n"
     ]
    }
   ],
   "source": [
    "students =[\"김씨\",\"최씨\",\"이씨\",\"박씨\",\"정씨\",\"장씨\"]\n",
    "\n",
    "for i in [1, 1, 1]:\n",
    "    print(students)"
   ]
  },
  {
   "cell_type": "code",
   "execution_count": 42,
   "metadata": {},
   "outputs": [
    {
     "data": {
      "text/plain": [
       "False"
      ]
     },
     "execution_count": 42,
     "metadata": {},
     "output_type": "execute_result"
    }
   ],
   "source": [
    "'123' in students"
   ]
  },
  {
   "cell_type": "code",
   "execution_count": 82,
   "metadata": {},
   "outputs": [],
   "source": [
    "array = ['asdfda', 12421, 122, 1232, 35435, 624,46, 100, 100, 100, 100, 100,100,100,100]\n",
    "\n"
   ]
  },
  {
   "cell_type": "code",
   "execution_count": 85,
   "metadata": {},
   "outputs": [],
   "source": [
    "for i in array[:]:\n",
    "    if i in array:\n",
    "        if i != 100:\n",
    "            array.remove(i)"
   ]
  },
  {
   "cell_type": "code",
   "execution_count": 87,
   "metadata": {},
   "outputs": [
    {
     "data": {
      "text/plain": [
       "[100, 100, 100, 100, 100, 100, 100, 100]"
      ]
     },
     "execution_count": 87,
     "metadata": {},
     "output_type": "execute_result"
    }
   ],
   "source": [
    "array"
   ]
  },
  {
   "cell_type": "code",
   "execution_count": 89,
   "metadata": {},
   "outputs": [
    {
     "data": {
      "text/plain": [
       "[1, 2, 3, 4, 5, 6, 7, 8, 9]"
      ]
     },
     "execution_count": 89,
     "metadata": {},
     "output_type": "execute_result"
    }
   ],
   "source": [
    "list(range(1,10))"
   ]
  },
  {
   "cell_type": "code",
   "execution_count": 94,
   "metadata": {},
   "outputs": [
    {
     "name": "stdout",
     "output_type": "stream",
     "text": [
      "인덱스 :0, 값 : 1\n",
      "인덱스 :1, 값 : 2\n",
      "인덱스 :2, 값 : 3\n",
      "인덱스 :3, 값 : 4\n",
      "인덱스 :4, 값 : 5\n",
      "인덱스 :5, 값 : 6\n",
      "인덱스 :6, 값 : 7\n",
      "인덱스 :7, 값 : 8\n",
      "인덱스 :8, 값 : 9\n"
     ]
    }
   ],
   "source": [
    "for i, j in enumerate(range(1,10)):\n",
    "    print(f'인덱스 :{i}, 값 : {j}')"
   ]
  },
  {
   "cell_type": "code",
   "execution_count": 95,
   "metadata": {},
   "outputs": [],
   "source": [
    "d = {'a':90, 'b':80, 'c':70}"
   ]
  },
  {
   "cell_type": "code",
   "execution_count": 97,
   "metadata": {},
   "outputs": [
    {
     "data": {
      "text/plain": [
       "{'a': 90, 'b': 80, 'c': 70}"
      ]
     },
     "execution_count": 97,
     "metadata": {},
     "output_type": "execute_result"
    }
   ],
   "source": [
    "d"
   ]
  },
  {
   "cell_type": "code",
   "execution_count": 105,
   "metadata": {},
   "outputs": [
    {
     "data": {
      "text/plain": [
       "[('c', 70), ('b', 80), ('a', 90)]"
      ]
     },
     "execution_count": 105,
     "metadata": {},
     "output_type": "execute_result"
    }
   ],
   "source": [
    "sorted(d.items(), reverse=True)"
   ]
  },
  {
   "cell_type": "code",
   "execution_count": 106,
   "metadata": {},
   "outputs": [],
   "source": [
    "dic_a = {'name': 'aaaa', 'type': 'bbbb'}"
   ]
  },
  {
   "cell_type": "code",
   "execution_count": 111,
   "metadata": {},
   "outputs": [],
   "source": [
    "dic_a['ent'] = 1000000"
   ]
  },
  {
   "cell_type": "code",
   "execution_count": 113,
   "metadata": {},
   "outputs": [
    {
     "data": {
      "text/plain": [
       "{'name': 'aaaa', 'type': 'bbbb', 'ent': 1000000}"
      ]
     },
     "execution_count": 113,
     "metadata": {},
     "output_type": "execute_result"
    }
   ],
   "source": [
    "dic_a"
   ]
  },
  {
   "cell_type": "code",
   "execution_count": 115,
   "metadata": {},
   "outputs": [],
   "source": [
    "a = list(range(1,10))"
   ]
  },
  {
   "cell_type": "code",
   "execution_count": 117,
   "metadata": {},
   "outputs": [
    {
     "data": {
      "text/plain": [
       "[1, 2, 3, 4, 5, 6, 7, 8, 9]"
      ]
     },
     "execution_count": 117,
     "metadata": {},
     "output_type": "execute_result"
    }
   ],
   "source": [
    "a"
   ]
  },
  {
   "cell_type": "code",
   "execution_count": 119,
   "metadata": {},
   "outputs": [],
   "source": [
    "b = {0:a[0], 1:a[1]}"
   ]
  },
  {
   "cell_type": "code",
   "execution_count": 121,
   "metadata": {},
   "outputs": [
    {
     "data": {
      "text/plain": [
       "{0: 1, 1: 2}"
      ]
     },
     "execution_count": 121,
     "metadata": {},
     "output_type": "execute_result"
    }
   ],
   "source": [
    "b"
   ]
  },
  {
   "cell_type": "code",
   "execution_count": 124,
   "metadata": {},
   "outputs": [],
   "source": [
    "b = {}\n",
    "j = 0\n",
    "for i in a:\n",
    "    b[j] = i \n",
    "    j += 1"
   ]
  },
  {
   "cell_type": "code",
   "execution_count": 126,
   "metadata": {},
   "outputs": [
    {
     "data": {
      "text/plain": [
       "{0: 1, 1: 2, 2: 3, 3: 4, 4: 5, 5: 6, 6: 7, 7: 8, 8: 9}"
      ]
     },
     "execution_count": 126,
     "metadata": {},
     "output_type": "execute_result"
    }
   ],
   "source": [
    "b"
   ]
  },
  {
   "cell_type": "code",
   "execution_count": 128,
   "metadata": {},
   "outputs": [],
   "source": [
    "c = {}\n",
    "for i, j  in enumerate(a):\n",
    "    c[i] = j"
   ]
  },
  {
   "cell_type": "code",
   "execution_count": 130,
   "metadata": {},
   "outputs": [
    {
     "data": {
      "text/plain": [
       "{0: 1, 1: 2, 2: 3, 3: 4, 4: 5, 5: 6, 6: 7, 7: 8, 8: 9}"
      ]
     },
     "execution_count": 130,
     "metadata": {},
     "output_type": "execute_result"
    }
   ],
   "source": [
    "c"
   ]
  },
  {
   "cell_type": "code",
   "execution_count": 7,
   "metadata": {},
   "outputs": [
    {
     "name": "stdout",
     "output_type": "stream",
     "text": [
      "0000000000000000000000000000000000000010100000000000000000000000000000000000000\n",
      "0000000000000000000000000000000000000100010000000000000000000000000000000000000\n",
      "0000000000000000000000000000000000001010101000000000000000000000000000000000000\n",
      "0000000000000000000000000000000000010000000100000000000000000000000000000000000\n",
      "0000000000000000000000000000000000101000001010000000000000000000000000000000000\n",
      "0000000000000000000000000000000001000100010001000000000000000000000000000000000\n",
      "0000000000000000000000000000000010101010101010100000000000000000000000000000000\n",
      "0000000000000000000000000000000100000000000000010000000000000000000000000000000\n",
      "0000000000000000000000000000001010000000000000101000000000000000000000000000000\n",
      "0000000000000000000000000000010001000000000001000100000000000000000000000000000\n",
      "0000000000000000000000000000101010100000000010101010000000000000000000000000000\n",
      "0000000000000000000000000001000000010000000100000001000000000000000000000000000\n",
      "0000000000000000000000000010100000101000001010000010100000000000000000000000000\n",
      "0000000000000000000000000100010001000100010001000100010000000000000000000000000\n",
      "0000000000000000000000001010101010101010101010101010101000000000000000000000000\n",
      "0000000000000000000000010000000000000000000000000000000100000000000000000000000\n",
      "0000000000000000000000101000000000000000000000000000001010000000000000000000000\n",
      "0000000000000000000001000100000000000000000000000000010001000000000000000000000\n",
      "0000000000000000000010101010000000000000000000000000101010100000000000000000000\n",
      "0000000000000000000100000001000000000000000000000001000000010000000000000000000\n",
      "0000000000000000001010000010100000000000000000000010100000101000000000000000000\n",
      "0000000000000000010001000100010000000000000000000100010001000100000000000000000\n",
      "0000000000000000101010101010101000000000000000001010101010101010000000000000000\n",
      "0000000000000001000000000000000100000000000000010000000000000001000000000000000\n",
      "0000000000000010100000000000001010000000000000101000000000000010100000000000000\n",
      "0000000000000100010000000000010001000000000001000100000000000100010000000000000\n",
      "0000000000001010101000000000101010100000000010101010000000001010101000000000000\n",
      "0000000000010000000100000001000000010000000100000001000000010000000100000000000\n",
      "0000000000101000001010000010100000101000001010000010100000101000001010000000000\n",
      "0000000001000100010001000100010001000100010001000100010001000100010001000000000\n",
      "0000000010101010101010101010101010101010101010101010101010101010101010100000000\n",
      "0000000100000000000000000000000000000000000000000000000000000000000000010000000\n",
      "0000001010000000000000000000000000000000000000000000000000000000000000101000000\n",
      "0000010001000000000000000000000000000000000000000000000000000000000001000100000\n",
      "0000101010100000000000000000000000000000000000000000000000000000000010101010000\n",
      "0001000000010000000000000000000000000000000000000000000000000000000100000001000\n",
      "0010100000101000000000000000000000000000000000000000000000000000001010000010100\n",
      "0100010001000100000000000000000000000000000000000000000000000000010001000100010\n"
     ]
    }
   ],
   "source": [
    "colwidth = 79 \n",
    "rule90 = {'000':'0', '001':'1', '010':'0', '011':'1', '100':'1', '101':'0', '110':'1', '111':'0'}\n",
    "\n",
    "half = colwidth // 2\n",
    "# print(half)\n",
    "line = '0' * half + '1' + '0' * half\n",
    "\n",
    "# line[:colwidth]\n",
    "\n",
    "while line[1] == '0':\n",
    "    prev = line\n",
    "    line = '0' * colwidth\n",
    "    for i in range(1, colwidth - 1):\n",
    "        line = line[:i] + rule90[prev[i-1:i+2]] + line[i+1:]\n",
    "    print(line)\n",
    "\n",
    "\n"
   ]
  },
  {
   "cell_type": "code",
   "execution_count": 12,
   "metadata": {},
   "outputs": [],
   "source": [
    "a = [1] *3\n",
    "b = [2] *7\n",
    "c = [3] *5"
   ]
  },
  {
   "cell_type": "code",
   "execution_count": 18,
   "metadata": {},
   "outputs": [],
   "source": [
    "a.extend(c)"
   ]
  },
  {
   "cell_type": "code",
   "execution_count": 29,
   "metadata": {},
   "outputs": [
    {
     "data": {
      "text/plain": [
       "[1, 1, 1, 2, 2, 2, 2, 2, 2, 2, 3, 3, 3, 3, 3]"
      ]
     },
     "execution_count": 29,
     "metadata": {},
     "output_type": "execute_result"
    }
   ],
   "source": [
    "a"
   ]
  },
  {
   "cell_type": "code",
   "execution_count": 32,
   "metadata": {},
   "outputs": [
    {
     "name": "stdout",
     "output_type": "stream",
     "text": [
      "1\n",
      "aaa 1\n",
      "1\n",
      "bbb 2\n",
      "1\n",
      "bbb 3\n",
      "2\n",
      "aaa 1\n",
      "2\n",
      "bbb 2\n",
      "2\n",
      "bbb 3\n",
      "2\n",
      "bbb 4\n",
      "2\n",
      "bbb 5\n",
      "2\n",
      "bbb 6\n",
      "2\n",
      "bbb 7\n",
      "3\n",
      "aaa 1\n",
      "3\n",
      "bbb 2\n",
      "3\n",
      "bbb 3\n",
      "3\n",
      "bbb 4\n",
      "3\n",
      "bbb 5\n"
     ]
    }
   ],
   "source": [
    "d1 = {}\n",
    "\n",
    "for i in a:\n",
    "    print(i)\n",
    "    if d1.get(i) == None:\n",
    "        d1[i] = 1\n",
    "        print(\"aaa\", d1[i])\n",
    "    else:\n",
    "        d1[i] += 1\n",
    "        print(\"bbb\", d1[i])\n"
   ]
  },
  {
   "cell_type": "code",
   "execution_count": 33,
   "metadata": {},
   "outputs": [
    {
     "data": {
      "text/plain": [
       "{1: 3, 2: 7, 3: 5}"
      ]
     },
     "execution_count": 33,
     "metadata": {},
     "output_type": "execute_result"
    }
   ],
   "source": [
    "d1"
   ]
  },
  {
   "cell_type": "code",
   "execution_count": 53,
   "metadata": {},
   "outputs": [],
   "source": [
    "dic_c = {'aaa':'a1', 'bbb':12, 'ccc':{'a1':'1111', 'a2':'2222'}, 'ddd':['d111', 'd222', 'd333']}"
   ]
  },
  {
   "cell_type": "code",
   "execution_count": 54,
   "metadata": {},
   "outputs": [
    {
     "data": {
      "text/plain": [
       "{'aaa': 'a1',\n",
       " 'bbb': 12,\n",
       " 'ccc': {'a1': '1111', 'a2': '2222'},\n",
       " 'ddd': ['d111', 'd222', 'd333']}"
      ]
     },
     "execution_count": 54,
     "metadata": {},
     "output_type": "execute_result"
    }
   ],
   "source": [
    "dic_c"
   ]
  },
  {
   "cell_type": "code",
   "execution_count": 67,
   "metadata": {},
   "outputs": [
    {
     "name": "stdout",
     "output_type": "stream",
     "text": [
      "aaa : a1\n",
      "bbb : 12\n",
      "a1 : 1111\n",
      "a2 : 2222\n",
      "ddd : d111\n",
      "ddd : d222\n",
      "ddd : d333\n"
     ]
    }
   ],
   "source": [
    "for i in dic_c:\n",
    "    if type(dic_c[i]) == dict:\n",
    "        for j,k in dic_c[i].items():\n",
    "            print(j, ':', k)\n",
    "    elif type(dic_c[i]) == list:\n",
    "        for j in dic_c[i]:\n",
    "            print(i, ':', j)\n",
    "    else:\n",
    "        print(i, ':', dic_c[i])"
   ]
  },
  {
   "cell_type": "code",
   "execution_count": 102,
   "metadata": {},
   "outputs": [
    {
     "name": "stdout",
     "output_type": "stream",
     "text": [
      "147038305\n",
      "[2341, 141324153, 2341, 4341215, 134132, 1234123]\n",
      "[2341, 2341, 134132, 1234123, 4341215, 141324153]\n",
      "[141324153, 4341215, 1234123, 134132, 2341, 2341]\n"
     ]
    }
   ],
   "source": [
    "import numpy as np\n",
    "\n",
    "ar_a = [2341, 141324153, 2341, 4341215, 134132, 1234123]\n",
    "print(np.sum(ar_a))\n",
    "\n",
    "# ar_a.sort(reverse=True)\n",
    "\n",
    "print(ar_a)\n",
    "print(list(np.sort(ar_a)))\n",
    "print(list(np.sort(ar_a)[::-1]))\n",
    "\n"
   ]
  },
  {
   "cell_type": "code",
   "execution_count": 73,
   "metadata": {},
   "outputs": [
    {
     "name": "stdout",
     "output_type": "stream",
     "text": [
      "1234123\n",
      "134132\n",
      "4341215\n",
      "2341\n",
      "141324153\n",
      "2341\n"
     ]
    }
   ],
   "source": [
    "for i in reversed(ar_a):\n",
    "    print(i)"
   ]
  },
  {
   "cell_type": "code",
   "execution_count": 105,
   "metadata": {},
   "outputs": [
    {
     "name": "stdout",
     "output_type": "stream",
     "text": [
      "45\n"
     ]
    }
   ],
   "source": [
    "import numpy as np\n",
    "\n",
    "ar_b = [23, 4, 5, 7, 6]\n",
    "print(np.sum(ar_b))"
   ]
  },
  {
   "cell_type": "code",
   "execution_count": 112,
   "metadata": {},
   "outputs": [
    {
     "name": "stdout",
     "output_type": "stream",
     "text": [
      "45\n"
     ]
    }
   ],
   "source": [
    "i = 0\n",
    "isum = 0\n",
    "\n",
    "while i != len(ar_b):\n",
    "    isum += ar_b[i]\n",
    "    # print(i, isum)\n",
    "    i += 1\n",
    "\n",
    "print(isum)\n"
   ]
  },
  {
   "cell_type": "code",
   "execution_count": 115,
   "metadata": {},
   "outputs": [
    {
     "data": {
      "text/plain": [
       "147038305"
      ]
     },
     "execution_count": 115,
     "metadata": {},
     "output_type": "execute_result"
    }
   ],
   "source": [
    "sum(ar_a)"
   ]
  },
  {
   "cell_type": "code",
   "execution_count": 124,
   "metadata": {},
   "outputs": [
    {
     "data": {
      "text/plain": [
       "[3, 6, 9]"
      ]
     },
     "execution_count": 124,
     "metadata": {},
     "output_type": "execute_result"
    }
   ],
   "source": [
    "list(range(3,10,3))"
   ]
  },
  {
   "cell_type": "code",
   "execution_count": 158,
   "metadata": {},
   "outputs": [],
   "source": [
    "li_a = [\"aaa\", \"bbb\", \"ccc\", \"ddd\"]\n",
    "li_b = [\"eee\", 200, 50, 10]"
   ]
  },
  {
   "cell_type": "code",
   "execution_count": 159,
   "metadata": {},
   "outputs": [
    {
     "name": "stdout",
     "output_type": "stream",
     "text": [
      "{'aaa': 'eee', 'bbb': 200, 'ccc': 50, 'ddd': 10}\n"
     ]
    }
   ],
   "source": [
    "dic_d = {}\n",
    "\n",
    "for i in range(len(li_a)):\n",
    "    dic_d[li_a[i]] = li_b[i]\n",
    "\n",
    "print(dic_d)"
   ]
  },
  {
   "cell_type": "code",
   "execution_count": 161,
   "metadata": {},
   "outputs": [
    {
     "data": {
      "text/plain": [
       "{'aaa': 'eee', 'bbb': 200, 'ccc': 50, 'ddd': 10}"
      ]
     },
     "execution_count": 161,
     "metadata": {},
     "output_type": "execute_result"
    }
   ],
   "source": [
    "dict(zip(li_a, li_b))"
   ]
  },
  {
   "cell_type": "code",
   "execution_count": 169,
   "metadata": {},
   "outputs": [
    {
     "name": "stdout",
     "output_type": "stream",
     "text": [
      "46번재 일 경우 합은 1035 입니다.\n"
     ]
    }
   ],
   "source": [
    "limit = 1000\n",
    "i = 1\n",
    "s = 0\n",
    "\n",
    "while s <= 1000:\n",
    "    s += i\n",
    "    i += 1\n",
    "\n",
    "print(f'{i}번재 일 경우 합은 {s} 입니다.')\n"
   ]
  },
  {
   "cell_type": "code",
   "execution_count": 171,
   "metadata": {},
   "outputs": [
    {
     "data": {
      "text/plain": [
       "1035"
      ]
     },
     "execution_count": 171,
     "metadata": {},
     "output_type": "execute_result"
    }
   ],
   "source": [
    "sum(range(46))"
   ]
  },
  {
   "cell_type": "code",
   "execution_count": 178,
   "metadata": {},
   "outputs": [
    {
     "data": {
      "text/plain": [
       "3628800"
      ]
     },
     "execution_count": 178,
     "metadata": {},
     "output_type": "execute_result"
    }
   ],
   "source": [
    "n =1\n",
    "fac = 1\n",
    "\n",
    "while n <= 10:\n",
    "    fac *= n\n",
    "    n += 1\n",
    "\n",
    "fac"
   ]
  },
  {
   "cell_type": "code",
   "execution_count": 180,
   "metadata": {},
   "outputs": [
    {
     "data": {
      "text/plain": [
       "10000000000"
      ]
     },
     "execution_count": 180,
     "metadata": {},
     "output_type": "execute_result"
    }
   ],
   "source": [
    "10**10"
   ]
  },
  {
   "cell_type": "code",
   "execution_count": 187,
   "metadata": {},
   "outputs": [
    {
     "name": "stdout",
     "output_type": "stream",
     "text": [
      "22\n"
     ]
    }
   ],
   "source": [
    "limit = 100**10\n",
    "n = 1\n",
    "fac = 1\n",
    "\n",
    "while True:\n",
    "    fac *= n\n",
    "    if fac >= limit:\n",
    "        print(n)\n",
    "        break\n",
    "    n += 1\n",
    "\n",
    "    # if 100 ** n >= limit:\n",
    "    #     print(n)\n",
    "    #     break\n",
    "    # n += 1\n",
    "\n",
    "    "
   ]
  },
  {
   "cell_type": "code",
   "execution_count": 218,
   "metadata": {},
   "outputs": [
    {
     "name": "stdout",
     "output_type": "stream",
     "text": [
      "팩토리얼은 15511210043330985984000000 이고 10의 지수승은 10000000000000000000000000이며 25부터 커진다\n"
     ]
    }
   ],
   "source": [
    "\n",
    "n = 1\n",
    "exp = 1\n",
    "\n",
    "while True:\n",
    "    exp = 10 ** n\n",
    "    i = 1\n",
    "    fac = 1\n",
    "    while i <= n:\n",
    "        fac *= i\n",
    "        i += 1\n",
    "    if fac > exp:\n",
    "        print(f'팩토리얼은 {fac} 이고 10의 지수승은 {exp}이며 {n}부터 커진다')\n",
    "        break\n",
    "    n += 1"
   ]
  },
  {
   "cell_type": "code",
   "execution_count": 219,
   "metadata": {},
   "outputs": [
    {
     "name": "stdout",
     "output_type": "stream",
     "text": [
      "10000000000000000000000000\n",
      "15511210043330985984000000\n"
     ]
    },
    {
     "data": {
      "text/plain": [
       "True"
      ]
     },
     "execution_count": 219,
     "metadata": {},
     "output_type": "execute_result"
    }
   ],
   "source": [
    "def fec(n):\n",
    "    i = 1\n",
    "    fac = 1\n",
    "    while i <= n:\n",
    "        fac *= i\n",
    "        i += 1\n",
    "    return fac\n",
    "\n",
    "print(10 ** 25)\n",
    "print(fec(25))\n",
    "\n",
    "fec(25) > 10**25"
   ]
  },
  {
   "cell_type": "code",
   "execution_count": 238,
   "metadata": {},
   "outputs": [],
   "source": [
    "import random\n",
    "\n",
    "x = []\n",
    "for i in range(100):\n",
    "    x.append(random.randint(1, 100))\n",
    "\n",
    "# ??random.randint"
   ]
  },
  {
   "cell_type": "code",
   "execution_count": 237,
   "metadata": {},
   "outputs": [],
   "source": [
    "x_odds = []\n",
    "for i in x:\n",
    "    if i % 3 == 0:\n",
    "        x_odds.append(i)"
   ]
  },
  {
   "cell_type": "code",
   "execution_count": 233,
   "metadata": {},
   "outputs": [],
   "source": [
    "x_odds = [ i for i in x if i%3 == 0 ]"
   ]
  },
  {
   "cell_type": "code",
   "execution_count": 274,
   "metadata": {},
   "outputs": [
    {
     "data": {
      "text/plain": [
       "37"
      ]
     },
     "execution_count": 274,
     "metadata": {},
     "output_type": "execute_result"
    }
   ],
   "source": [
    "s = []\n",
    "\n",
    "for i in range(1, 101):\n",
    "    if i in x:\n",
    "        pass\n",
    "    else:\n",
    "        s.append(i)\n",
    "\n",
    "len(s)\n"
   ]
  },
  {
   "cell_type": "code",
   "execution_count": 273,
   "metadata": {},
   "outputs": [
    {
     "data": {
      "text/plain": [
       "37"
      ]
     },
     "execution_count": 273,
     "metadata": {},
     "output_type": "execute_result"
    }
   ],
   "source": [
    "from collections import Counter\n",
    "\n",
    "cnt = Counter(x)\n",
    "\n",
    "aa = [v for k,v in cnt.most_common()]\n",
    "\n",
    "100 - len(aa)\n",
    "\n",
    "# cnt.most_common()"
   ]
  },
  {
   "cell_type": "code",
   "execution_count": 266,
   "metadata": {},
   "outputs": [
    {
     "data": {
      "text/plain": [
       "37"
      ]
     },
     "execution_count": 266,
     "metadata": {},
     "output_type": "execute_result"
    }
   ],
   "source": [
    "x_2 = [i for i in range(1, 101) if i not in x]\n",
    "\n",
    "len(x_2)"
   ]
  },
  {
   "cell_type": "code",
   "execution_count": 275,
   "metadata": {},
   "outputs": [
    {
     "data": {
      "text/plain": [
       "array([ 1,  3,  4,  4,  4,  4,  5,  5,  7,  9, 10, 10, 13, 15, 17, 18, 18,\n",
       "       19, 19, 21, 22, 23, 26, 26, 28, 30, 31, 32, 32, 33, 34, 34, 34, 34,\n",
       "       37, 40, 42, 43, 44, 44, 46, 46, 47, 48, 48, 49, 50, 51, 53, 53, 57,\n",
       "       58, 59, 60, 61, 61, 61, 61, 63, 63, 64, 65, 67, 68, 68, 68, 69, 69,\n",
       "       69, 69, 70, 70, 71, 73, 74, 74, 76, 77, 78, 79, 80, 81, 81, 82, 82,\n",
       "       82, 82, 86, 86, 89, 90, 90, 90, 93, 95, 98, 99, 99, 99, 99])"
      ]
     },
     "execution_count": 275,
     "metadata": {},
     "output_type": "execute_result"
    }
   ],
   "source": [
    "np.sort(x)"
   ]
  },
  {
   "cell_type": "code",
   "execution_count": 278,
   "metadata": {},
   "outputs": [
    {
     "data": {
      "text/plain": [
       "5171"
      ]
     },
     "execution_count": 278,
     "metadata": {},
     "output_type": "execute_result"
    }
   ],
   "source": [
    "sum(x)"
   ]
  },
  {
   "cell_type": "code",
   "execution_count": 283,
   "metadata": {},
   "outputs": [
    {
     "name": "stdout",
     "output_type": "stream",
     "text": [
      "2583\n",
      "2588\n",
      "5171\n"
     ]
    }
   ],
   "source": [
    "s1 = 0\n",
    "s2 = 0\n",
    "\n",
    "for i in x:\n",
    "    if i % 2 == 1:\n",
    "        s1 += i\n",
    "    if i % 2 == 0:\n",
    "        s2 += i\n",
    "\n",
    "print(s1)\n",
    "print(s2)\n",
    "print(s1 + s2)"
   ]
  },
  {
   "cell_type": "code",
   "execution_count": 289,
   "metadata": {},
   "outputs": [
    {
     "data": {
      "text/plain": [
       "{'s': 2583, 'a': 2588}"
      ]
     },
     "execution_count": 289,
     "metadata": {},
     "output_type": "execute_result"
    }
   ],
   "source": [
    "def sum_odd(x):\n",
    "    s1 = 0\n",
    "    s2 = 0\n",
    "    li_s = []\n",
    "    dic_s = {}\n",
    "\n",
    "    for i in x:\n",
    "        if i % 2 == 1:\n",
    "            s1 += i\n",
    "        if i % 2 == 0:\n",
    "            s2 += i\n",
    "    # li_s.append(s1)\n",
    "    # li_s.append(s2)\n",
    "    dic_s = {'s':s1, 'a':s2}\n",
    "    \n",
    "    return dic_s\n",
    "\n",
    "sum_odd(x)               "
   ]
  },
  {
   "cell_type": "code",
   "execution_count": 290,
   "metadata": {},
   "outputs": [
    {
     "data": {
      "text/plain": [
       "51.71"
      ]
     },
     "execution_count": 290,
     "metadata": {},
     "output_type": "execute_result"
    }
   ],
   "source": [
    "def mean(x):\n",
    "    return sum(x)/len(x)\n",
    "\n",
    "mean(x)    "
   ]
  },
  {
   "cell_type": "code",
   "execution_count": 292,
   "metadata": {},
   "outputs": [],
   "source": [
    "\n",
    "def sum_a(x):\n",
    "    x = [i for i in x if type(i) is not str]\n",
    "    return sum(x)"
   ]
  },
  {
   "cell_type": "code",
   "execution_count": 296,
   "metadata": {},
   "outputs": [],
   "source": [
    "def str_print(x):\n",
    "    x = [i for i in x if type(i) is str]\n",
    "    if len(x) == 0:\n",
    "        print(\"not str\")\n",
    "        return x\n",
    "    return x"
   ]
  },
  {
   "cell_type": "code",
   "execution_count": 299,
   "metadata": {},
   "outputs": [
    {
     "data": {
      "text/plain": [
       "['aaa']"
      ]
     },
     "execution_count": 299,
     "metadata": {},
     "output_type": "execute_result"
    }
   ],
   "source": [
    "li_d = ['aaa']\n",
    "\n",
    "str_print(li_d)"
   ]
  },
  {
   "cell_type": "code",
   "execution_count": 309,
   "metadata": {},
   "outputs": [
    {
     "name": "stdout",
     "output_type": "stream",
     "text": [
      "95367431640625\n",
      "4\n"
     ]
    },
    {
     "data": {
      "text/plain": [
       "95367431640625"
      ]
     },
     "execution_count": 309,
     "metadata": {},
     "output_type": "execute_result"
    }
   ],
   "source": [
    "print(5**20)\n",
    "\n",
    "def exp_a(x=2,y=2):\n",
    "    return x**y\n",
    "\n",
    "print(exp_a())\n",
    "\n",
    "exp_a(5,20)    "
   ]
  },
  {
   "cell_type": "code",
   "execution_count": 326,
   "metadata": {},
   "outputs": [
    {
     "data": {
      "text/plain": [
       "93326215443944152681699238856266700490715968264381621468592963895217599993229915608941463976156518286253697920827223758251185210916864000000000000000000000000"
      ]
     },
     "execution_count": 326,
     "metadata": {},
     "output_type": "execute_result"
    }
   ],
   "source": [
    "def fac_a(n):\n",
    "    fac = 1\n",
    "    i=1\n",
    "    while i <= n:\n",
    "        fac *= i\n",
    "        i += 1\n",
    "    return fac\n",
    "\n",
    "fac_a(100)    "
   ]
  },
  {
   "cell_type": "code",
   "execution_count": 325,
   "metadata": {},
   "outputs": [
    {
     "data": {
      "text/plain": [
       "95139236463017634303061457225966052579249341063317851721245807515014450873050774044983357161119966145026554813309850328595541525803731574584100256988975333376"
      ]
     },
     "execution_count": 325,
     "metadata": {},
     "output_type": "execute_result"
    }
   ],
   "source": [
    "def exp_b(x,n) :\n",
    "    return x**n\n",
    "\n",
    "exp_b(38,100)"
   ]
  },
  {
   "cell_type": "code",
   "execution_count": 331,
   "metadata": {},
   "outputs": [
    {
     "name": "stdout",
     "output_type": "stream",
     "text": [
      "38\n"
     ]
    }
   ],
   "source": [
    "x = 1\n",
    "\n",
    "while 1:\n",
    "    if exp_b(x,100) > fac_a(100):\n",
    "        print(x)\n",
    "        break\n",
    "    x += 1"
   ]
  },
  {
   "cell_type": "code",
   "execution_count": 340,
   "metadata": {},
   "outputs": [
    {
     "name": "stdout",
     "output_type": "stream",
     "text": [
      "[-20.         -19.5959596  -19.19191919 -18.78787879 -18.38383838\n",
      " -17.97979798 -17.57575758 -17.17171717 -16.76767677 -16.36363636\n",
      " -15.95959596 -15.55555556 -15.15151515 -14.74747475 -14.34343434\n",
      " -13.93939394 -13.53535354 -13.13131313 -12.72727273 -12.32323232\n",
      " -11.91919192 -11.51515152 -11.11111111 -10.70707071 -10.3030303\n",
      "  -9.8989899   -9.49494949  -9.09090909  -8.68686869  -8.28282828\n",
      "  -7.87878788  -7.47474747  -7.07070707  -6.66666667  -6.26262626\n",
      "  -5.85858586  -5.45454545  -5.05050505  -4.64646465  -4.24242424\n",
      "  -3.83838384  -3.43434343  -3.03030303  -2.62626263  -2.22222222\n",
      "  -1.81818182  -1.41414141  -1.01010101  -0.60606061  -0.2020202\n",
      "   0.2020202    0.60606061   1.01010101   1.41414141   1.81818182\n",
      "   2.22222222   2.62626263   3.03030303   3.43434343   3.83838384\n",
      "   4.24242424   4.64646465   5.05050505   5.45454545   5.85858586\n",
      "   6.26262626   6.66666667   7.07070707   7.47474747   7.87878788\n",
      "   8.28282828   8.68686869   9.09090909   9.49494949   9.8989899\n",
      "  10.3030303   10.70707071  11.11111111  11.51515152  11.91919192\n",
      "  12.32323232  12.72727273  13.13131313  13.53535354  13.93939394\n",
      "  14.34343434  14.74747475  15.15151515  15.55555556  15.95959596\n",
      "  16.36363636  16.76767677  17.17171717  17.57575758  17.97979798\n",
      "  18.38383838  18.78787879  19.19191919  19.5959596   20.        ]\n"
     ]
    },
    {
     "data": {
      "image/png": "[encoded data removed]",
      "text/plain": [
       "<Figure size 432x288 with 1 Axes>"
      ]
     },
     "metadata": {
      "needs_background": "light"
     },
     "output_type": "display_data"
    }
   ],
   "source": [
    "import matplotlib.pyplot as plt\n",
    "import numpy as np\n",
    "\n",
    "x = np.linspace(-20,20,100)\n",
    "\n",
    "print(x)\n",
    "\n",
    "def f(x):\n",
    "    return x**2+2*x+1\n",
    "\n",
    "plt.plot(f(x))\n",
    "plt.show()\n"
   ]
  },
  {
   "cell_type": "code",
   "execution_count": 342,
   "metadata": {},
   "outputs": [
    {
     "data": {
      "text/plain": [
       "[1, 2, 3]"
      ]
     },
     "execution_count": 342,
     "metadata": {},
     "output_type": "execute_result"
    }
   ],
   "source": [
    "list([1,2,3,])"
   ]
  },
  {
   "cell_type": "code",
   "execution_count": 344,
   "metadata": {},
   "outputs": [
    {
     "data": {
      "text/plain": [
       "{1: 2, 3: 4}"
      ]
     },
     "execution_count": 344,
     "metadata": {},
     "output_type": "execute_result"
    }
   ],
   "source": [
    "dict({1:2,3:4})"
   ]
  },
  {
   "cell_type": "code",
   "execution_count": 349,
   "metadata": {},
   "outputs": [
    {
     "data": {
      "text/plain": [
       "((1, 2), (3, 4))"
      ]
     },
     "execution_count": 349,
     "metadata": {},
     "output_type": "execute_result"
    }
   ],
   "source": [
    "tuple([(1,2),(3,4)])"
   ]
  },
  {
   "cell_type": "code",
   "execution_count": 363,
   "metadata": {},
   "outputs": [
    {
     "name": "stdout",
     "output_type": "stream",
     "text": [
      "121\n",
      "121\n"
     ]
    }
   ],
   "source": [
    "def f(x):\n",
    "    return x**2+2*x+1\n",
    "\n",
    "print(f(10))\n",
    "\n",
    "f1 = lambda x: x**2+2*x+1\n",
    "\n",
    "print(f1(10))"
   ]
  },
  {
   "cell_type": "code",
   "execution_count": 375,
   "metadata": {},
   "outputs": [
    {
     "name": "stdout",
     "output_type": "stream",
     "text": [
      "[4, 9, 16, 25, 36]\n"
     ]
    }
   ],
   "source": [
    "x = [1,2,3,4,5,]\n",
    "y = [i**2+2*i+1 for i in x]\n",
    "y = [f(i) for i in x]\n",
    "y = map(lambda x: x**2+2*x+1, x)\n",
    "y = map(f1, x)\n",
    "\n",
    "print(list(y))"
   ]
  },
  {
   "cell_type": "code",
   "execution_count": 380,
   "metadata": {},
   "outputs": [],
   "source": [
    "x = np.random.randint(1, 100,100000000)"
   ]
  },
  {
   "cell_type": "code",
   "execution_count": 382,
   "metadata": {},
   "outputs": [
    {
     "name": "stdout",
     "output_type": "stream",
     "text": [
      "CPU times: total: 0 ns\n",
      "Wall time: 0 ns\n"
     ]
    }
   ],
   "source": [
    "%%time\n",
    "a = (map(lambda x:x**2,x))"
   ]
  },
  {
   "cell_type": "code",
   "execution_count": 387,
   "metadata": {},
   "outputs": [
    {
     "name": "stdout",
     "output_type": "stream",
     "text": [
      "CPU times: total: 11.8 s\n",
      "Wall time: 11.8 s\n"
     ]
    }
   ],
   "source": [
    "%%time\n",
    "b = [i**2 for i in x]"
   ]
  },
  {
   "cell_type": "code",
   "execution_count": 393,
   "metadata": {},
   "outputs": [],
   "source": [
    "x = list(np.random.randint(1, 100, 10000))"
   ]
  },
  {
   "cell_type": "code",
   "execution_count": 394,
   "metadata": {},
   "outputs": [
    {
     "data": {
      "text/plain": [
       "50.1986"
      ]
     },
     "execution_count": 394,
     "metadata": {},
     "output_type": "execute_result"
    }
   ],
   "source": [
    "def mean(x):\n",
    "    return sum(x)/len(x)\n",
    "\n"
   ]
  },
  {
   "cell_type": "code",
   "execution_count": 396,
   "metadata": {},
   "outputs": [
    {
     "data": {
      "text/plain": [
       "50.1986"
      ]
     },
     "execution_count": 396,
     "metadata": {},
     "output_type": "execute_result"
    }
   ],
   "source": [
    "mean(x)"
   ]
  },
  {
   "cell_type": "code",
   "execution_count": 402,
   "metadata": {},
   "outputs": [
    {
     "data": {
      "text/plain": [
       "array([62, 76, 64, ..., 92, 92, 67])"
      ]
     },
     "execution_count": 402,
     "metadata": {},
     "output_type": "execute_result"
    }
   ],
   "source": [
    "np.array(x)[np.array(x)>mean(x)]"
   ]
  }
 ],
 "metadata": {
  "kernelspec": {
   "display_name": "Python 3.9.12 ('text')",
   "language": "python",
   "name": "python3"
  },
  "language_info": {
   "codemirror_mode": {
    "name": "ipython",
    "version": 3
   },
   "file_extension": ".py",
   "mimetype": "text/x-python",
   "name": "python",
   "nbconvert_exporter": "python",
   "pygments_lexer": "ipython3",
   "version": "3.9.12"
  },
  "orig_nbformat": 4,
  "vscode": {
   "interpreter": {
    "hash": "80dd2d74995cff030f05c4aaf2e1cbbecb94b10840da6517b5c52eb90417978d"
   }
  }
 },
 "nbformat": 4,
 "nbformat_minor": 2
}
